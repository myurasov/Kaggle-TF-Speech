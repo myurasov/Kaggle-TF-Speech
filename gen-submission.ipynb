{
 "cells": [
  {
   "cell_type": "code",
   "execution_count": 1,
   "metadata": {},
   "outputs": [],
   "source": [
    "import pandas as pd"
   ]
  },
  {
   "cell_type": "code",
   "execution_count": 2,
   "metadata": {},
   "outputs": [],
   "source": [
    "INPUT_CSV_FILES = [\n",
    "#     'predictions/predictions-c.csv',\n",
    "#     'predictions/predictions-d2.csv',\n",
    "#     'predictions/predictions-e@17.csv',\n",
    "    'predictions/predictions-f@13.csv',\n",
    "]\n",
    "\n",
    "OUT_FILE = 'submissions/s-10.csv'\n",
    "\n",
    "ENSEMBLING_METHOD = 'mean' # mean/voting"
   ]
  },
  {
   "cell_type": "code",
   "execution_count": 3,
   "metadata": {},
   "outputs": [],
   "source": [
    "%run 'lib.ipynb'\n",
    "%run 'data-generator.ipynb'"
   ]
  },
  {
   "cell_type": "code",
   "execution_count": 4,
   "metadata": {},
   "outputs": [],
   "source": [
    "dfs = [pd.DataFrame.from_csv(f) for f in INPUT_CSV_FILES]"
   ]
  },
  {
   "cell_type": "code",
   "execution_count": 5,
   "metadata": {},
   "outputs": [],
   "source": [
    "predictions = {} # file: [pq, p2,...]\n",
    "\n",
    "for df in dfs:\n",
    "    for file, p in df.iterrows():\n",
    "        if not file in predictions:\n",
    "            predictions[file] = []\n",
    "        predictions[file].append(list(p))"
   ]
  },
  {
   "cell_type": "code",
   "execution_count": 6,
   "metadata": {},
   "outputs": [
    {
     "name": "stdout",
     "output_type": "stream",
     "text": [
      "mean_voting_disagrees 0\n"
     ]
    }
   ],
   "source": [
    "submission = {}\n",
    "mean_voting_disagrees = 0\n",
    "\n",
    "for file, preds in predictions.items():\n",
    "\n",
    "    label_i_mean = np.argmax(np.mean(preds, axis=0))\n",
    "    label_i_voting = np.argmax(np.bincount(np.argmax(preds, axis=1)))\n",
    "    if label_i_mean != label_i_voting: mean_voting_disagrees += 1\n",
    "\n",
    "    if ENSEMBLING_METHOD == 'mean':\n",
    "        submission[file] = LABELS[label_i_mean]\n",
    "    elif ENSEMBLING_METHOD == 'voting':\n",
    "        submission[file] = LABELS[label_i_voting]\n",
    "\n",
    "print('mean_voting_disagrees', mean_voting_disagrees)"
   ]
  },
  {
   "cell_type": "code",
   "execution_count": 7,
   "metadata": {},
   "outputs": [],
   "source": [
    "submission_df = pd.DataFrame.from_dict(submission, orient='index')\n",
    "submission_df.columns = ['label']\n",
    "submission_df.to_csv(OUT_FILE, index_label='fname')"
   ]
  },
  {
   "cell_type": "code",
   "execution_count": null,
   "metadata": {},
   "outputs": [],
   "source": []
  }
 ],
 "metadata": {
  "kernelspec": {
   "display_name": "Python 3",
   "language": "python",
   "name": "python3"
  },
  "language_info": {
   "codemirror_mode": {
    "name": "ipython",
    "version": 3
   },
   "file_extension": ".py",
   "mimetype": "text/x-python",
   "name": "python",
   "nbconvert_exporter": "python",
   "pygments_lexer": "ipython3",
   "version": "3.5.2"
  }
 },
 "nbformat": 4,
 "nbformat_minor": 2
}
