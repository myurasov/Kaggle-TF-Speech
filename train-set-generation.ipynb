{
 "cells": [
  {
   "cell_type": "code",
   "execution_count": 1,
   "metadata": {},
   "outputs": [],
   "source": [
    "print('aaa')"
   ]
  },
  {
   "cell_type": "code",
   "execution_count": null,
   "metadata": {},
   "outputs": [],
   "source": [
    "def _gen_training_samples(n, start_i):\n",
    "    X = np.zeros((n, ) + INPUT_SIZE, dtype=np.float32)\n",
    "    Y = np.zeros((n, len(LABELS)), dtype=np.float32)\n",
    "    for i in range(n):\n",
    "        wave, label = dg.generate_audio()\n",
    "        msg = dg.normalize_msg(dg.msg(wave))\n",
    "        msg = np.expand_dims(msg, 2)\n",
    "        X[i] = msg\n",
    "        Y[i] = dg.label_to_onehot(label)\n",
    "    np.save('%s/X_%07d-%07d' % (TRAIN_TMP_DIR, start_i, n + start_i), X)\n",
    "    np.save('%s/Y_%07d-%07d' % (TRAIN_TMP_DIR, start_i, n + start_i), Y)\n",
    "\n",
    "\n",
    "def generate_train_set(n_total=100, n_per_job=10, n_pools=16):\n",
    "\n",
    "    global train_X\n",
    "    global train_Y\n",
    "\n",
    "    assert n_total % n_per_job == 0\n",
    "\n",
    "    # cleanup tmp dir\n",
    "    if os.path.isdir(TRAIN_TMP_DIR): shutil.rmtree(TRAIN_TMP_DIR)\n",
    "\n",
    "    # create temporary dir for generated data\n",
    "    if not os.path.isdir(TRAIN_TMP_DIR): os.makedirs(TRAIN_TMP_DIR)\n",
    "\n",
    "    # launch generation in pool of workers\n",
    "\n",
    "    n_jobs = n_total // n_per_job\n",
    "    params = map(lambda x: [n_per_job, x * n_per_job], range(n_jobs))\n",
    "\n",
    "    with Pool(n_pools) as p:\n",
    "        p.starmap(_gen_training_samples, list(params))\n",
    "\n",
    "    # glue generated files together\n",
    "\n",
    "    train_X = np.zeros((n_total, ) + INPUT_SIZE, dtype=np.float32)\n",
    "    train_Y = np.zeros((n_total, len(dg.labels)), dtype=np.float32)\n",
    "\n",
    "    for i in range(0, n_total, n_per_job):\n",
    "        X_file = '%s/X_%07d-%07d.npy' % (TRAIN_TMP_DIR, i, i + n_per_job)\n",
    "        Y_file = '%s/Y_%07d-%07d.npy' % (TRAIN_TMP_DIR, i, i + n_per_job)\n",
    "        X = np.load(X_file)\n",
    "        Y = np.load(Y_file)\n",
    "        train_X[i:i + n_per_job] = X\n",
    "        train_Y[i:i + n_per_job] = Y\n",
    "\n",
    "    np.save(train_X_file, train_X)\n",
    "    np.save(train_Y_file, train_Y)"
   ]
  }
 ],
 "metadata": {
  "kernelspec": {
   "display_name": "Python 3",
   "language": "python",
   "name": "python3"
  },
  "language_info": {
   "codemirror_mode": {
    "name": "ipython",
    "version": 3
   },
   "file_extension": ".py",
   "mimetype": "text/x-python",
   "name": "python",
   "nbconvert_exporter": "python",
   "pygments_lexer": "ipython3",
   "version": "3.5.2"
  }
 },
 "nbformat": 4,
 "nbformat_minor": 2
}
