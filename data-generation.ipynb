{
 "cells": [
  {
   "cell_type": "code",
   "execution_count": null,
   "metadata": {},
   "outputs": [],
   "source": [
    "import numpy as np\n",
    "import librosa\n",
    "from scipy.io import wavfile"
   ]
  },
  {
   "cell_type": "code",
   "execution_count": 24,
   "metadata": {},
   "outputs": [],
   "source": [
    "class DataGenerator(object):\n",
    "    def __init__(self):\n",
    "        self.input_dir = ''\n",
    "\n",
    "        self.sample_rate = 16000\n",
    "        self.duration = 1.  # sec\n",
    "        self.n_fft = 512\n",
    "        self.n_mels = 64\n",
    "        self.msg_w = 256\n",
    "\n",
    "        # random mixing settings\n",
    "        self.mix_with = {}\n",
    "        self.mix_with[self.input_dir +\n",
    "                      '/_background_noise_/doing_the_dishes.wav'] = {\n",
    "                          volume: [1., 0.25],\n",
    "                          probability: 1\n",
    "                      }\n",
    "        self.mix_with[self.input_dir +\n",
    "                      '/_background_noise_/exercise_bike.wav'] = {\n",
    "                          volume: [1., 0.25],\n",
    "                          probability: 1\n",
    "                      }\n",
    "\n",
    "    # compute mel-scaled spectrogram\n",
    "    def msg(self, wave):\n",
    "\n",
    "        hop_length = int(1 + self.duration * self.sample_rate //\n",
    "                         (self.msg_w - 1))\n",
    "        desired_wave_len = int(hop_length * (self.msg_w - 1))\n",
    "\n",
    "        # pad wave if neccessary to get the desired msg width\n",
    "        if desired_wave_len > len(wave):\n",
    "            wave = np.pad(\n",
    "                wave, (0, desired_wave_len - len(wave)),\n",
    "                'constant',\n",
    "                constant_values=(0.))\n",
    "\n",
    "        # trim wave if it's too long\n",
    "        elif len(wave) > desired_wave_len:\n",
    "            wave = wave[:desired_wave_len]\n",
    "\n",
    "        msg = librosa.feature.melspectrogram(\n",
    "            y=wave,\n",
    "            sr=self.sample_rate,\n",
    "            hop_length=hop_length,\n",
    "            n_fft=self.n_fft,\n",
    "            n_mels=self.n_mels)\n",
    "        msg = librosa.logamplitude(msg**2, ref_power=1.)\n",
    "\n",
    "        return msg.astype(np.float32)"
   ]
  },
  {
   "cell_type": "code",
   "execution_count": 42,
   "metadata": {},
   "outputs": [
    {
     "data": {
      "image/png": "[encoded data removed]",
      "text/plain": [
       "<matplotlib.figure.Figure at 0x7f4a2ae9a5c0>"
      ]
     },
     "metadata": {
      "image/png": {
       "height": 212,
       "width": 393
      }
     },
     "output_type": "display_data"
    }
   ],
   "source": [
    "if __name__ == '__main__':\n",
    "    \n",
    "    import matplotlib.pyplot as plt\n",
    "    %matplotlib inline\n",
    "    %config InlineBackend.figure_format = 'retina'\n",
    "    from jupyterthemes import jtplot\n",
    "    jtplot.style()\n",
    "    \n",
    "    import IPython.display as ipd\n",
    "    \n",
    "    f = '/d2/caches/tf-speech/train/audio/dog/00b01445_nohash_0.wav'\n",
    "    dg = DataGenerator()\n",
    "    dg.n_mels = 32\n",
    "    dg.msg_w = 64\n",
    "    m = dg.msg(wavfile.read(f)[1])\n",
    "    plt.imshow(m)"
   ]
  },
  {
   "cell_type": "code",
   "execution_count": 44,
   "metadata": {},
   "outputs": [
    {
     "name": "stdout",
     "output_type": "stream",
     "text": [
      "doing_the_dishes.wav  exercise_bike.wav  README.md\t  white_noise.wav\r\n",
      "dude_miaowing.wav     pink_noise.wav\t running_tap.wav\r\n"
     ]
    }
   ],
   "source": [
    "!ls /d2/caches/tf-speech/train/audio/_background_noise_/ "
   ]
  },
  {
   "cell_type": "code",
   "execution_count": null,
   "metadata": {},
   "outputs": [],
   "source": []
  }
 ],
 "metadata": {
  "kernelspec": {
   "display_name": "Python 3",
   "language": "python",
   "name": "python3"
  },
  "language_info": {
   "codemirror_mode": {
    "name": "ipython",
    "version": 3
   },
   "file_extension": ".py",
   "mimetype": "text/x-python",
   "name": "python",
   "nbconvert_exporter": "python",
   "pygments_lexer": "ipython3",
   "version": "3.5.2"
  }
 },
 "nbformat": 4,
 "nbformat_minor": 2
}
