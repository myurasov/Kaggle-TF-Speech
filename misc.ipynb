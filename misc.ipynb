{
 "cells": [
  {
   "cell_type": "code",
   "execution_count": 1,
   "metadata": {},
   "outputs": [],
   "source": [
    "import os\n",
    "import random as rnd\n",
    "import numpy"
   ]
  },
  {
   "cell_type": "code",
   "execution_count": 2,
   "metadata": {},
   "outputs": [],
   "source": [
    "%run 'data-generator.ipynb'"
   ]
  },
  {
   "cell_type": "code",
   "execution_count": 3,
   "metadata": {},
   "outputs": [],
   "source": [
    "rnd.seed(0)\n",
    "numpy.random.seed(0)"
   ]
  },
  {
   "cell_type": "code",
   "execution_count": 4,
   "metadata": {},
   "outputs": [],
   "source": [
    "dg = DataGenerator('/d2/caches/tf-speech/train/audio')\n",
    "\n",
    "N_VAL_SAMPLES = 3 * 1000\n",
    "N_TRAIN_SAMPLES = 1 * 1000 * 1000\n",
    "OUT_DIR = 'out_1m'\n",
    "\n",
    "if not os.path.isdir(OUT_DIR): os.makedirs(OUT_DIR)\n",
    "\n",
    "\n",
    "def _gen():\n",
    "\n",
    "    # generate, save\n",
    "    dg.val_files = {}\n",
    "    val_X, val_Y = dg.generate_val_set(n=N_VAL_SAMPLES)\n",
    "    np.save('%s/val_files.npy' % OUT_DIR, dg.val_files)\n",
    "    np.save('%s/val_X.npy' % OUT_DIR, val_X)\n",
    "    np.save('%s/val_Y.npy' % OUT_DIR, val_Y)\n",
    "\n",
    "    dg.generate_train_set(\n",
    "        n_total=N_TRAIN_SAMPLES,\n",
    "        n_per_job=1000,\n",
    "        n_pools=16,\n",
    "        X_file='%s/train_X.mem' % OUT_DIR,\n",
    "        Y_file='%s/train_Y.mem' % OUT_DIR,\n",
    "        tmp_dir='%s/train_tmp' % OUT_DIR)"
   ]
  },
  {
   "cell_type": "code",
   "execution_count": 5,
   "metadata": {},
   "outputs": [
    {
     "name": "stdout",
     "output_type": "stream",
     "text": [
      "CPU times: user 3min 24s, sys: 9min 7s, total: 12min 31s\n",
      "Wall time: 6h 57min 34s\n"
     ]
    }
   ],
   "source": [
    "%time _gen()"
   ]
  },
  {
   "cell_type": "code",
   "execution_count": null,
   "metadata": {},
   "outputs": [],
   "source": []
  }
 ],
 "metadata": {
  "kernelspec": {
   "display_name": "Python 3",
   "language": "python",
   "name": "python3"
  },
  "language_info": {
   "codemirror_mode": {
    "name": "ipython",
    "version": 3
   },
   "file_extension": ".py",
   "mimetype": "text/x-python",
   "name": "python",
   "nbconvert_exporter": "python",
   "pygments_lexer": "ipython3",
   "version": "3.5.2"
  }
 },
 "nbformat": 4,
 "nbformat_minor": 2
}
