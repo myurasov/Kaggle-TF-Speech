{
 "cells": [
  {
   "cell_type": "code",
   "execution_count": 1,
   "metadata": {},
   "outputs": [],
   "source": [
    "from glob import glob\n",
    "import pandas as pd\n",
    "from tqdm import tqdm\n",
    "from collections import Counter"
   ]
  },
  {
   "cell_type": "code",
   "execution_count": 2,
   "metadata": {},
   "outputs": [],
   "source": [
    "INPUT_FILES = glob('submissions/subms/*.csv')\n",
    "OUT_FILE = 'submissions/subm-all-1.csv'"
   ]
  },
  {
   "cell_type": "code",
   "execution_count": 3,
   "metadata": {},
   "outputs": [
    {
     "name": "stderr",
     "output_type": "stream",
     "text": [
      "100%|██████████| 13/13 [00:01<00:00, 11.00it/s]\n"
     ]
    }
   ],
   "source": [
    "dfs = []\n",
    "\n",
    "for f in tqdm(INPUT_FILES):\n",
    "    dfs.append(pd.DataFrame.from_csv(f, index_col='fname'))"
   ]
  },
  {
   "cell_type": "code",
   "execution_count": 4,
   "metadata": {},
   "outputs": [
    {
     "name": "stderr",
     "output_type": "stream",
     "text": [
      "100%|██████████| 158538/158538 [02:21<00:00, 1120.38it/s]"
     ]
    },
    {
     "name": "stdout",
     "output_type": "stream",
     "text": [
      "n_disagree: 56976\n"
     ]
    },
    {
     "name": "stderr",
     "output_type": "stream",
     "text": [
      "\n"
     ]
    }
   ],
   "source": [
    "n_disagree = 0\n",
    "subm = {}\n",
    "\n",
    "for fname, v in tqdm(dfs[0].iterrows(), total=len(dfs[0])):\n",
    "    labels = Counter()\n",
    "    for df in dfs:\n",
    "        labels[df.loc[fname]['label']] += 1\n",
    "    label = labels.most_common(1)[0][0]\n",
    "    subm[fname] = label\n",
    "    if len(labels) > 1: n_disagree += 1\n",
    "\n",
    "print('n_disagree:', n_disagree)"
   ]
  },
  {
   "cell_type": "code",
   "execution_count": 5,
   "metadata": {},
   "outputs": [],
   "source": [
    "s_df = pd.DataFrame.from_dict(subm, orient='index')\n",
    "s_df.columns = ['label']\n",
    "s_df.to_csv(OUT_FILE, index_label='fname')"
   ]
  }
 ],
 "metadata": {
  "kernelspec": {
   "display_name": "Python 3",
   "language": "python",
   "name": "python3"
  },
  "language_info": {
   "codemirror_mode": {
    "name": "ipython",
    "version": 3
   },
   "file_extension": ".py",
   "mimetype": "text/x-python",
   "name": "python",
   "nbconvert_exporter": "python",
   "pygments_lexer": "ipython3",
   "version": "3.5.2"
  }
 },
 "nbformat": 4,
 "nbformat_minor": 2
}
