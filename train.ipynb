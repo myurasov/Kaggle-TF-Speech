{
 "cells": [
  {
   "cell_type": "code",
   "execution_count": null,
   "metadata": {},
   "outputs": [
    {
     "name": "stderr",
     "output_type": "stream",
     "text": [
      "Using TensorFlow backend.\n"
     ]
    }
   ],
   "source": [
    "import numpy as np\n",
    "import shutil\n",
    "import os\n",
    "from multiprocessing import Pool\n",
    "from keras.optimizers import RMSprop\n",
    "from keras.losses import categorical_crossentropy\n",
    "from keras.callbacks import TensorBoard, ModelCheckpoint, EarlyStopping"
   ]
  },
  {
   "cell_type": "code",
   "execution_count": null,
   "metadata": {},
   "outputs": [],
   "source": [
    "RND = 0\n",
    "RUN = 'A'\n",
    "OUT_DIR = 'out'\n",
    "TRAIN_TMP_DIR = OUT_DIR + '/train'\n",
    "INPUT_DIR = '/d2/caches/tf-speech/train/audio'\n",
    "TENSORBOARD_DIR = '/tensorboard/tf-speech/%s' % RUN\n",
    "MODELS_DIR = '%s/models' % OUT_DIR\n",
    "INPUT_SIZE = (64, 64, 1)  # n_mels x width x 1ch\n",
    "MSG_NORM_MEAN = 116.536\n",
    "MSG_NORM_STD = 21.5913\n",
    "LABELS = [\n",
    "    'yes', 'no', 'up', 'down', 'left', 'right', 'on', 'off', 'stop', 'go',\n",
    "    'unknown', 'silence'\n",
    "]\n",
    "\n",
    "N_VAL_SAMPLES = 2500\n",
    "N_TRAIN_SAMPLES = 500000  # how many training samples to generate"
   ]
  },
  {
   "cell_type": "code",
   "execution_count": null,
   "metadata": {},
   "outputs": [],
   "source": [
    "%run 'lib.ipynb'\n",
    "%run 'data-generator.ipynb'\n",
    "%run 'models.ipynb'"
   ]
  },
  {
   "cell_type": "code",
   "execution_count": null,
   "metadata": {},
   "outputs": [],
   "source": [
    "# remove tensorboard data\n",
    "if os.path.isdir(TENSORBOARD_DIR): shutil.rmtree(TENSORBOARD_DIR)"
   ]
  },
  {
   "cell_type": "code",
   "execution_count": null,
   "metadata": {},
   "outputs": [],
   "source": [
    "# init data gen\n",
    "dg = DataGenerator(input_dir=INPUT_DIR)\n",
    "dg.n_mels = INPUT_SIZE[0]\n",
    "dg.msg_w = INPUT_SIZE[1]\n",
    "# normalization params\n",
    "dg.samplewise_norm = True\n",
    "dg.msg_std = MSG_NORM_STD\n",
    "dg.msg_mean = MSG_NORM_MEAN"
   ]
  },
  {
   "cell_type": "code",
   "execution_count": null,
   "metadata": {},
   "outputs": [],
   "source": [
    "# generate/load val set\n",
    "val_files_path = OUT_DIR + '/val_files.npy'\n",
    "val_X_path = OUT_DIR + '/val_X.npy'\n",
    "val_Y_path = OUT_DIR + '/val_Y.npy'\n",
    "\n",
    "if os.path.isfile(val_files_path):\n",
    "    # load val set\n",
    "    dg.val_files = np.load(val_files_path)\n",
    "    val_X = np.load(val_X_path)\n",
    "    val_Y = np.load(val_Y_path)\n",
    "else:\n",
    "    # generate val set\n",
    "    dg.val_files = {}\n",
    "    val_X, val_Y = dg.generate_val_set(n=N_VAL_SAMPLES)\n",
    "    np.save(val_files_path, dg.val_files)\n",
    "    np.save(val_X_path, val_X)\n",
    "    np.save(val_Y_path, val_Y)\n",
    "    \n",
    "assert len(val_X) == len(val_Y)\n",
    "print('val samples: %d' % len(val_X))"
   ]
  },
  {
   "cell_type": "code",
   "execution_count": null,
   "metadata": {},
   "outputs": [],
   "source": [
    "# create model\n",
    "model = Model_2(input_size=INPUT_SIZE, output_size=len(LABELS))\n",
    "model.build()\n",
    "optimizer = RMSprop(lr=0.001, decay=0.0)\n",
    "model.m.compile(\n",
    "    optimizer=optimizer, loss=categorical_crossentropy, metrics=['accuracy']\\\n",
    ")"
   ]
  },
  {
   "cell_type": "code",
   "execution_count": null,
   "metadata": {},
   "outputs": [],
   "source": [
    "# generate training data\n",
    "\n",
    "train_X_file = '%s/train_X.npy' % OUT_DIR\n",
    "train_Y_file = '%s/train_Y.npy' % OUT_DIR\n",
    "\n",
    "if os.path.isfile(train_X_file):\n",
    "\n",
    "    train_X = np.load(train_X_file)\n",
    "    train_Y = np.load(train_Y_file)\n",
    "\n",
    "else:\n",
    "\n",
    "    train_X = None\n",
    "    train_Y = None\n",
    "\n",
    "    def gen_training_samples(n, start_i):\n",
    "        X = np.zeros((n, ) + INPUT_SIZE, dtype=np.float32)\n",
    "        Y = np.zeros((n, len(LABELS)), dtype=np.float32)\n",
    "        for i in range(n):\n",
    "            wave, label = dg.generate_audio()\n",
    "            msg = dg.normalize_msg(dg.msg(wave))\n",
    "            msg = np.expand_dims(msg, 2)\n",
    "            X[i] = msg\n",
    "            Y[i] = dg.label_to_onehot(label)\n",
    "        np.save('%s/X_%07d-%07d' % (TRAIN_TMP_DIR, start_i, n + start_i), X)\n",
    "        np.save('%s/Y_%07d-%07d' % (TRAIN_TMP_DIR, start_i, n + start_i), Y)\n",
    "\n",
    "    def generate_train_set(n_total=100, n_per_job=10, n_pools=16):\n",
    "        assert n_total % n_per_job == 0\n",
    "\n",
    "        global train_X\n",
    "        global train_Y\n",
    "\n",
    "        # create temporary dir for generated data\n",
    "        if not os.path.isdir(TRAIN_TMP_DIR): os.makedirs(TRAIN_TMP_DIR)\n",
    "\n",
    "        # launch generation in pool of workers\n",
    "\n",
    "        n_jobs = n_total // n_per_job\n",
    "        params = map(lambda x: [n_per_job, x * n_per_job], range(n_jobs))\n",
    "\n",
    "        with Pool(n_pools) as p:\n",
    "            p.starmap(gen_training_samples, list(params))\n",
    "\n",
    "        # glue generated files together\n",
    "\n",
    "        train_X = np.zeros((n_total, ) + INPUT_SIZE, dtype=np.float32)\n",
    "        train_Y = np.zeros((n_total, len(dg.labels)), dtype=np.float32)\n",
    "\n",
    "        for i in range(0, n_total, n_per_job):\n",
    "            X_file = '%s/X_%07d-%07d.npy' % (TRAIN_TMP_DIR, i, i + n_per_job)\n",
    "            Y_file = '%s/Y_%07d-%07d.npy' % (TRAIN_TMP_DIR, i, i + n_per_job)\n",
    "            X = np.load(X_file)\n",
    "            Y = np.load(Y_file)\n",
    "            train_X[i:i + n_per_job] = X\n",
    "            train_Y[i:i + n_per_job] = Y\n",
    "\n",
    "        np.save(train_X_file, train_X)\n",
    "        np.save(train_Y_file, train_Y)\n",
    "\n",
    "    %time generate_train_set(n_total=N_TRAIN_SAMPLES, n_per_job=1000, n_pools=16)\n",
    "\n",
    "assert len(train_X) == len(train_Y)\n",
    "print('training samples: %d' % len(train_X))"
   ]
  },
  {
   "cell_type": "code",
   "execution_count": null,
   "metadata": {},
   "outputs": [],
   "source": [
    "# create models dir\n",
    "if os.path.isdir(MODELS_DIR): shutil.rmtree(MODELS_DIR)\n",
    "os.makedirs(MODELS_DIR)"
   ]
  },
  {
   "cell_type": "code",
   "execution_count": null,
   "metadata": {},
   "outputs": [],
   "source": [
    "# train model\n",
    "\n",
    "N_BATCH = 1000\n",
    "N_EPOCHS = 100\n",
    "\n",
    "model.m.fit(\n",
    "    x=train_X,\n",
    "    y=train_Y,\n",
    "    batch_size=N_BATCH,\n",
    "    epochs=N_EPOCHS,\n",
    "    verbose=1,\n",
    "    callbacks=[\n",
    "        TensorBoard(log_dir=TENSORBOARD_DIR, histogram_freq=0),\n",
    "        ModelCheckpoint(\n",
    "            MODELS_DIR +\n",
    "            '/e{epoch:03d}-l={loss:.5f}-vl={val_loss:.5f}-a={acc:.5f}-va={val_acc:.5f}.h5',\n",
    "            monitor='val_acc',\n",
    "            verbose=0,\n",
    "            save_best_only=False,\n",
    "            save_weights_only=False,\n",
    "            mode='auto')\n",
    "    ],\n",
    "    validation_data=(val_X, val_Y),\n",
    "    shuffle=False)"
   ]
  },
  {
   "cell_type": "code",
   "execution_count": null,
   "metadata": {},
   "outputs": [],
   "source": []
  }
 ],
 "metadata": {
  "kernelspec": {
   "display_name": "Python 3",
   "language": "python",
   "name": "python3"
  },
  "language_info": {
   "codemirror_mode": {
    "name": "ipython",
    "version": 3
   },
   "file_extension": ".py",
   "mimetype": "text/x-python",
   "name": "python",
   "nbconvert_exporter": "python",
   "pygments_lexer": "ipython3",
   "version": "3.5.2"
  }
 },
 "nbformat": 4,
 "nbformat_minor": 2
}
