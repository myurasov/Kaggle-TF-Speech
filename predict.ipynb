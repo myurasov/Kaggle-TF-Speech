{
 "cells": [
  {
   "cell_type": "code",
   "execution_count": 8,
   "metadata": {},
   "outputs": [],
   "source": [
    "import os\n",
    "from keras.models import load_model\n",
    "import pandas as pd"
   ]
  },
  {
   "cell_type": "code",
   "execution_count": 9,
   "metadata": {},
   "outputs": [],
   "source": [
    "GPU = '1'\n",
    "MODEL_FILE = 'out_1_5m/models/F2/e021-l=0.26689-vl=0.29136-a=0.91302-va=0.94067.h5'\n",
    "INPUT_DIR = '/d2/caches/tf-speech/test/audio'\n",
    "OUT_DIR = 'out_96'\n",
    "OUT_CSV_FILE = 'predictions/predictions-f2@21.csv'\n",
    "MSG_SIZE = (96,96)"
   ]
  },
  {
   "cell_type": "code",
   "execution_count": 10,
   "metadata": {},
   "outputs": [],
   "source": [
    "%run 'lib.ipynb'\n",
    "%run 'data-generator.ipynb'"
   ]
  },
  {
   "cell_type": "code",
   "execution_count": 11,
   "metadata": {},
   "outputs": [],
   "source": [
    "# make only specific GPU to be utilized\n",
    "os.environ['CUDA_DEVICE_ORDER'] = 'PCI_BUS_ID'\n",
    "os.environ['CUDA_VISIBLE_DEVICES'] = GPU"
   ]
  },
  {
   "cell_type": "code",
   "execution_count": 12,
   "metadata": {},
   "outputs": [],
   "source": [
    "test_files_file = '%s/test_files.npy' % OUT_DIR\n",
    "test_X_file = '%s/test_X.mem' % OUT_DIR"
   ]
  },
  {
   "cell_type": "code",
   "execution_count": 13,
   "metadata": {},
   "outputs": [],
   "source": [
    "dg = DataGenerator(INPUT_DIR, extra_silence_dir=None)\n",
    "dg.n_mels = MSG_SIZE[0]\n",
    "dg.msg_w = MSG_SIZE[1]"
   ]
  },
  {
   "cell_type": "code",
   "execution_count": 14,
   "metadata": {},
   "outputs": [],
   "source": [
    "model = load_model(MODEL_FILE)"
   ]
  },
  {
   "cell_type": "code",
   "execution_count": 15,
   "metadata": {},
   "outputs": [
    {
     "name": "stdout",
     "output_type": "stream",
     "text": [
      "test files: 158538\n"
     ]
    }
   ],
   "source": [
    "if os.path.isfile(test_files_file):\n",
    "    test_files = np.load(test_files_file)\n",
    "else:\n",
    "    test_files = dg.input_files[None]\n",
    "    np.save(test_files_file, test_files)\n",
    "    \n",
    "print('test files: %d' % len(test_files))"
   ]
  },
  {
   "cell_type": "code",
   "execution_count": 16,
   "metadata": {
    "scrolled": false
   },
   "outputs": [
    {
     "name": "stderr",
     "output_type": "stream",
     "text": [
      "100%|██████████| 158538/158538 [1:17:55<00:00, 33.91it/s]\n"
     ]
    },
    {
     "name": "stdout",
     "output_type": "stream",
     "text": [
      "test files: 158538\n"
     ]
    }
   ],
   "source": [
    "test_X = None\n",
    "\n",
    "# generate msgs for test files\n",
    "if not os.path.isfile(test_X_file):\n",
    "\n",
    "    if os.path.isfile(test_X_file + '.tmp'):\n",
    "        os.unlink(test_X_file + '.tmp')\n",
    "\n",
    "    dg.debug = False\n",
    "    test_X = np.memmap(\n",
    "        test_X_file + '.tmp',\n",
    "        np.float32,\n",
    "        'w+',\n",
    "        shape=(len(test_files), dg.n_mels, dg.msg_w, 1))\n",
    "\n",
    "    for i, file in tqdm(enumerate(test_files), total=len(test_files)):\n",
    "        wave, _ = dg.generate_audio(label='-', file=file, transform=False)\n",
    "        msg = dg.msg(wave)\n",
    "        msg = dg.normalize_msg(msg)\n",
    "        test_X[i] = msg[:, :, np.newaxis]\n",
    "\n",
    "    test_X.flush()\n",
    "    os.rename(src=test_X_file + '.tmp', dst=test_X_file)\n",
    "\n",
    "test_X = np.memmap(\n",
    "    test_X_file,\n",
    "    np.float32,\n",
    "    'r',\n",
    "    shape=(len(test_files), dg.n_mels, dg.msg_w, 1))\n",
    "\n",
    "assert len(test_files) == len(test_X)\n",
    "print('test files: %d' % len(test_X))"
   ]
  },
  {
   "cell_type": "code",
   "execution_count": 10,
   "metadata": {},
   "outputs": [
    {
     "name": "stdout",
     "output_type": "stream",
     "text": [
      "158538/158538 [==============================] - 25s    \n"
     ]
    }
   ],
   "source": [
    "predictions = {}\n",
    "\n",
    "if test_X is None:\n",
    "    # dynamically predict\n",
    "    for file in tqdm(test_files):\n",
    "        wave, _ = dg.generate_audio(label='-', file=file, transform=False)\n",
    "        msg = dg.msg(wave)\n",
    "        msg = dg.normalize_msg(msg)\n",
    "        p = model.predict(msg[np.newaxis, :, :, np.newaxis])\n",
    "        predictions[file] = p[0]\n",
    "else:\n",
    "    pp = model.predict(test_X, verbose=1, batch_size=500)\n",
    "    # predict from test_X\n",
    "    for i, file in enumerate(test_files):\n",
    "        predictions[file] = pp[i]\n",
    "\n",
    "predictions_df = pd.DataFrame.from_dict(predictions, orient='index')"
   ]
  },
  {
   "cell_type": "code",
   "execution_count": 11,
   "metadata": {},
   "outputs": [],
   "source": [
    "predictions_df.to_csv(OUT_CSV_FILE, index_label='file')"
   ]
  },
  {
   "cell_type": "code",
   "execution_count": null,
   "metadata": {},
   "outputs": [],
   "source": []
  }
 ],
 "metadata": {
  "kernelspec": {
   "display_name": "Python 3",
   "language": "python",
   "name": "python3"
  },
  "language_info": {
   "codemirror_mode": {
    "name": "ipython",
    "version": 3
   },
   "file_extension": ".py",
   "mimetype": "text/x-python",
   "name": "python",
   "nbconvert_exporter": "python",
   "pygments_lexer": "ipython3",
   "version": "3.5.2"
  }
 },
 "nbformat": 4,
 "nbformat_minor": 2
}
