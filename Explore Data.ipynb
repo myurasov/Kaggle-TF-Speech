{
 "cells": [
  {
   "cell_type": "code",
   "execution_count": 66,
   "metadata": {},
   "outputs": [],
   "source": [
    "import os\n",
    "import IPython.display as ipd\n",
    "from scipy.io import wavfile\n",
    "from collections import Counter"
   ]
  },
  {
   "cell_type": "code",
   "execution_count": 58,
   "metadata": {},
   "outputs": [],
   "source": [
    "INPUT_DIR = '/d2/caches/tf-speech/train/audio'"
   ]
  },
  {
   "cell_type": "code",
   "execution_count": 59,
   "metadata": {},
   "outputs": [],
   "source": [
    "def list_wavs(audio_dir):\n",
    "\n",
    "    labels = [f for f in os.listdir(audio_dir) if f[0] != '_']\n",
    "    wavs = {}\n",
    "\n",
    "    for label in labels:\n",
    "        d = audio_dir + '/' + label\n",
    "        files = [d + '/' + x for x in os.listdir(d) if x.endswith('.wav')]\n",
    "        for f in files:\n",
    "            wavs[f] = label\n",
    "\n",
    "    return wavs, labels"
   ]
  },
  {
   "cell_type": "code",
   "execution_count": 60,
   "metadata": {},
   "outputs": [
    {
     "name": "stdout",
     "output_type": "stream",
     "text": [
      "64721\n"
     ]
    }
   ],
   "source": [
    "wavs, labels = list_wavs(INPUT_DIR)\n",
    "print(len(wavs))"
   ]
  },
  {
   "cell_type": "code",
   "execution_count": 74,
   "metadata": {},
   "outputs": [],
   "source": [
    "# analyze lengths\n",
    "\n",
    "sample_rates = Counter()\n",
    "lengths = Counter()\n",
    "\n",
    "for w in list(wavs)[:]:\n",
    "    sr, samples = wavfile.read(w)\n",
    "    sample_rates[sr] +=1\n",
    "    l = round(len(samples)/sr, 1)\n",
    "    lengths[l]+=1"
   ]
  },
  {
   "cell_type": "code",
   "execution_count": 75,
   "metadata": {},
   "outputs": [
    {
     "data": {
      "text/plain": [
       "Counter({16000: 64721})"
      ]
     },
     "execution_count": 75,
     "metadata": {},
     "output_type": "execute_result"
    }
   ],
   "source": [
    "sample_rates"
   ]
  },
  {
   "cell_type": "code",
   "execution_count": 76,
   "metadata": {},
   "outputs": [
    {
     "data": {
      "text/plain": [
       "Counter({0.4: 12,\n",
       "         0.5: 95,\n",
       "         0.6: 377,\n",
       "         0.7: 911,\n",
       "         0.8: 1315,\n",
       "         0.9: 2510,\n",
       "         1.0: 59501})"
      ]
     },
     "execution_count": 76,
     "metadata": {},
     "output_type": "execute_result"
    }
   ],
   "source": [
    "lengths"
   ]
  },
  {
   "cell_type": "code",
   "execution_count": null,
   "metadata": {},
   "outputs": [],
   "source": []
  }
 ],
 "metadata": {
  "kernelspec": {
   "display_name": "Python 3",
   "language": "python",
   "name": "python3"
  },
  "language_info": {
   "codemirror_mode": {
    "name": "ipython",
    "version": 3
   },
   "file_extension": ".py",
   "mimetype": "text/x-python",
   "name": "python",
   "nbconvert_exporter": "python",
   "pygments_lexer": "ipython3",
   "version": "3.5.2"
  }
 },
 "nbformat": 4,
 "nbformat_minor": 2
}
