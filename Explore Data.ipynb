{
 "cells": [
  {
   "cell_type": "code",
   "execution_count": 158,
   "metadata": {},
   "outputs": [],
   "source": [
    "import os\n",
    "import IPython.display as ipd\n",
    "from scipy.io import wavfile\n",
    "from collections import Counter\n",
    "from glob import glob"
   ]
  },
  {
   "cell_type": "code",
   "execution_count": 159,
   "metadata": {},
   "outputs": [],
   "source": [
    "TRAIN_DIR = '/d2/caches/tf-speech/train/audio'\n",
    "TEST_DIR = '/d2/caches/tf-speech/test/audio'"
   ]
  },
  {
   "cell_type": "code",
   "execution_count": 160,
   "metadata": {},
   "outputs": [],
   "source": [
    "# list all .wav files\n",
    "train_files = glob(TRAIN_DIR + '/**/*.wav')\n",
    "train_files = list(filter(lambda x: '_background_noise_/' not in x, train_files))\n",
    "test_files = glob(TEST_DIR + '/*.wav')"
   ]
  },
  {
   "cell_type": "code",
   "execution_count": 166,
   "metadata": {},
   "outputs": [],
   "source": [
    "# analyze lengths, sample rates\n",
    "sample_rates = Counter()\n",
    "lengths = Counter()\n",
    "\n",
    "for f in train_files+test_files:\n",
    "    sr, samples = wavfile.read(f)\n",
    "    sample_rates[sr] +=1\n",
    "    l = round(len(samples)/sr, 1)\n",
    "    lengths[l]+=1"
   ]
  },
  {
   "cell_type": "code",
   "execution_count": 167,
   "metadata": {},
   "outputs": [
    {
     "data": {
      "text/plain": [
       "Counter({16000: 223259})"
      ]
     },
     "execution_count": 167,
     "metadata": {},
     "output_type": "execute_result"
    }
   ],
   "source": [
    "sample_rates"
   ]
  },
  {
   "cell_type": "code",
   "execution_count": 168,
   "metadata": {
    "scrolled": true
   },
   "outputs": [
    {
     "data": {
      "text/plain": [
       "Counter({0.4: 12,\n",
       "         0.5: 95,\n",
       "         0.6: 377,\n",
       "         0.7: 911,\n",
       "         0.8: 1315,\n",
       "         0.9: 2510,\n",
       "         1.0: 218039})"
      ]
     },
     "execution_count": 168,
     "metadata": {},
     "output_type": "execute_result"
    }
   ],
   "source": [
    "lengths"
   ]
  },
  {
   "cell_type": "code",
   "execution_count": null,
   "metadata": {},
   "outputs": [],
   "source": []
  }
 ],
 "metadata": {
  "kernelspec": {
   "display_name": "Python 3",
   "language": "python",
   "name": "python3"
  },
  "language_info": {
   "codemirror_mode": {
    "name": "ipython",
    "version": 3
   },
   "file_extension": ".py",
   "mimetype": "text/x-python",
   "name": "python",
   "nbconvert_exporter": "python",
   "pygments_lexer": "ipython3",
   "version": "3.5.2"
  }
 },
 "nbformat": 4,
 "nbformat_minor": 2
}
