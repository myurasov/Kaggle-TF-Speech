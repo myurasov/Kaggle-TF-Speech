{
 "cells": [
  {
   "cell_type": "code",
   "execution_count": 4,
   "metadata": {},
   "outputs": [
    {
     "name": "stderr",
     "output_type": "stream",
     "text": [
      "Using TensorFlow backend.\n"
     ]
    }
   ],
   "source": [
    "import keras\n",
    "from keras.layers import *\n",
    "from keras.models import Model"
   ]
  },
  {
   "cell_type": "code",
   "execution_count": 19,
   "metadata": {},
   "outputs": [],
   "source": [
    "# VGG16-like one\n",
    "# @see https://github.com/fchollet/keras/blob/master/keras/applications/vgg16.py#L111\n",
    "class Model_1():\n",
    "    def __init__(self, conv_blocks=5, input_size=None, output_size=None):\n",
    "\n",
    "        self.conv_blocks = conv_blocks  # 1..5\n",
    "        self.input_size = input_size\n",
    "        self.output_size = output_size\n",
    "        self.m = None  # Keras model\n",
    "\n",
    "    def build(self):\n",
    "\n",
    "        # yapf: disable\n",
    "        i = Input(shape=self.input_size, name='input')\n",
    "\n",
    "        x = Conv2D(64, (3, 3), activation='relu', padding='same', name='block1_conv1')(i)\n",
    "        x = Conv2D(64, (3, 3), activation='relu', padding='same', name='block1_conv2')(x)\n",
    "        x = MaxPooling2D((2, 2), strides=(2, 2), name='block1_pool')(x)\n",
    "\n",
    "        if self.conv_blocks >= 2:\n",
    "            x = Conv2D(128, (3, 3), activation='relu', padding='same', name='block2_conv1')(x)\n",
    "            x = Conv2D(128, (3, 3), activation='relu', padding='same', name='block2_conv2')(x)\n",
    "            x = MaxPooling2D((2, 2), strides=(2, 2), name='block2_pool')(x)\n",
    "\n",
    "        if self.conv_blocks >= 3:\n",
    "            x = Conv2D(256, (3, 3), activation='relu', padding='same', name='block3_conv1')(x)\n",
    "            x = Conv2D(256, (3, 3), activation='relu', padding='same', name='block3_conv2')(x)\n",
    "            x = Conv2D(256, (3, 3), activation='relu', padding='same', name='block3_conv3')(x)\n",
    "            x = MaxPooling2D((2, 2), strides=(2, 2), name='block3_pool')(x)\n",
    "\n",
    "        if self.conv_blocks >= 4:\n",
    "            x = Conv2D(512, (3, 3), activation='relu', padding='same', name='block4_conv1')(x)\n",
    "            x = Conv2D(512, (3, 3), activation='relu', padding='same', name='block4_conv2')(x)\n",
    "            x = Conv2D(512, (3, 3), activation='relu', padding='same', name='block4_conv3')(x)\n",
    "            x = MaxPooling2D((2, 2), strides=(2, 2), name='block4_pool')(x)\n",
    "\n",
    "        if self.conv_blocks >= 5:\n",
    "            x = Conv2D(512, (3, 3), activation='relu', padding='same', name='block5_conv1')(x)\n",
    "            x = Conv2D(512, (3, 3), activation='relu', padding='same', name='block5_conv2')(x)\n",
    "            x = Conv2D(512, (3, 3), activation='relu', padding='same', name='block5_conv3')(x)\n",
    "            x = MaxPooling2D((2, 2), strides=(2, 2), name='block5_pool')(x)\n",
    "\n",
    "        x = Flatten(name='flatten')(x)\n",
    "        x = Dense(1024, activation='relu', name='fc1')(x)\n",
    "        x = Dropout(0.5)(x) # todo: try disabling\n",
    "        x = Dense(1024, activation='relu', name='fc2')(x)\n",
    "        x = Dropout(0.5)(x) # todo: try disabling\n",
    "        x = Dense(self.output_size, activation='softmax', name='predictions')(x)\n",
    "\n",
    "        # yapf: enable\n",
    "\n",
    "        self.m = Model(inputs=[i], outputs=[x])"
   ]
  },
  {
   "cell_type": "code",
   "execution_count": 24,
   "metadata": {},
   "outputs": [],
   "source": [
    "class Model_2():\n",
    "    def __init__(self, input_size=None, output_size=None):\n",
    "\n",
    "        self.input_size = input_size\n",
    "        self.output_size = output_size\n",
    "        self.m = None  # Keras model\n",
    "\n",
    "    def build(self):\n",
    "\n",
    "        # yapf: disable\n",
    "        i = Input(shape=self.input_size, name='input')\n",
    "\n",
    "        x = Conv2D(32, (3, 3), activation='relu', padding='same')(i)\n",
    "        x = MaxPooling2D((2, 2), strides=(2, 2))(x)\n",
    "\n",
    "        x = Conv2D(64, (3, 3), activation='relu', padding='same')(x)\n",
    "        x = MaxPooling2D((2, 2), strides=(2, 2))(x)\n",
    "\n",
    "        x = Conv2D(128, (3, 3), activation='relu', padding='same')(x)\n",
    "        x = MaxPooling2D((2, 2), strides=(2, 2))(x)\n",
    "\n",
    "        x = Conv2D(256, (3, 3), activation='relu', padding='same')(x)\n",
    "        x = MaxPooling2D((2, 2), strides=(2, 2))(x)\n",
    "\n",
    "        x = Conv2D(512, (3, 3), activation='relu', padding='same')(x)\n",
    "        x = MaxPooling2D((2, 2), strides=(2, 2))(x)\n",
    "\n",
    "        x = Flatten(name='flatten')(x)\n",
    "        x = Dropout(0.5)(x)\n",
    "        x = Dense(1024, activation='relu')(x)\n",
    "        x = Dropout(0.5)(x)\n",
    "        x = Dense(512, activation='relu')(x)\n",
    "        x = Dropout(0.5)(x)\n",
    "        x = Dense(self.output_size, activation='softmax')(x)\n",
    "\n",
    "        # yapf: enable\n",
    "\n",
    "        self.m = Model(inputs=[i], outputs=[x])"
   ]
  },
  {
   "cell_type": "code",
   "execution_count": 25,
   "metadata": {},
   "outputs": [
    {
     "name": "stdout",
     "output_type": "stream",
     "text": [
      "_________________________________________________________________\n",
      "Layer (type)                 Output Shape              Param #   \n",
      "=================================================================\n",
      "input (InputLayer)           (None, 64, 64, 1)         0         \n",
      "_________________________________________________________________\n",
      "conv2d_35 (Conv2D)           (None, 64, 64, 32)        320       \n",
      "_________________________________________________________________\n",
      "max_pooling2d_35 (MaxPooling (None, 32, 32, 32)        0         \n",
      "_________________________________________________________________\n",
      "conv2d_36 (Conv2D)           (None, 32, 32, 64)        18496     \n",
      "_________________________________________________________________\n",
      "max_pooling2d_36 (MaxPooling (None, 16, 16, 64)        0         \n",
      "_________________________________________________________________\n",
      "conv2d_37 (Conv2D)           (None, 16, 16, 128)       73856     \n",
      "_________________________________________________________________\n",
      "max_pooling2d_37 (MaxPooling (None, 8, 8, 128)         0         \n",
      "_________________________________________________________________\n",
      "conv2d_38 (Conv2D)           (None, 8, 8, 256)         295168    \n",
      "_________________________________________________________________\n",
      "max_pooling2d_38 (MaxPooling (None, 4, 4, 256)         0         \n",
      "_________________________________________________________________\n",
      "conv2d_39 (Conv2D)           (None, 4, 4, 512)         1180160   \n",
      "_________________________________________________________________\n",
      "max_pooling2d_39 (MaxPooling (None, 2, 2, 512)         0         \n",
      "_________________________________________________________________\n",
      "flatten (Flatten)            (None, 2048)              0         \n",
      "_________________________________________________________________\n",
      "dropout_7 (Dropout)          (None, 2048)              0         \n",
      "_________________________________________________________________\n",
      "dense_19 (Dense)             (None, 1024)              2098176   \n",
      "_________________________________________________________________\n",
      "dropout_8 (Dropout)          (None, 1024)              0         \n",
      "_________________________________________________________________\n",
      "dense_20 (Dense)             (None, 512)               524800    \n",
      "_________________________________________________________________\n",
      "dropout_9 (Dropout)          (None, 512)               0         \n",
      "_________________________________________________________________\n",
      "dense_21 (Dense)             (None, 10)                5130      \n",
      "=================================================================\n",
      "Total params: 4,196,106\n",
      "Trainable params: 4,196,106\n",
      "Non-trainable params: 0\n",
      "_________________________________________________________________\n"
     ]
    }
   ],
   "source": [
    "m = Model_2(input_size=(64, 64, 1), output_size=10)\n",
    "m.build()\n",
    "m.m.summary()"
   ]
  },
  {
   "cell_type": "code",
   "execution_count": null,
   "metadata": {},
   "outputs": [],
   "source": []
  }
 ],
 "metadata": {
  "kernelspec": {
   "display_name": "Python 3",
   "language": "python",
   "name": "python3"
  },
  "language_info": {
   "codemirror_mode": {
    "name": "ipython",
    "version": 3
   },
   "file_extension": ".py",
   "mimetype": "text/x-python",
   "name": "python",
   "nbconvert_exporter": "python",
   "pygments_lexer": "ipython3",
   "version": "3.5.2"
  }
 },
 "nbformat": 4,
 "nbformat_minor": 2
}
