{
 "cells": [
  {
   "cell_type": "code",
   "execution_count": 2,
   "metadata": {},
   "outputs": [
    {
     "name": "stderr",
     "output_type": "stream",
     "text": [
      "Using TensorFlow backend.\n"
     ]
    }
   ],
   "source": [
    "import keras\n",
    "from keras.layers import *\n",
    "from keras.models import Model"
   ]
  },
  {
   "cell_type": "code",
   "execution_count": 19,
   "metadata": {},
   "outputs": [],
   "source": [
    "# VGG16-like one\n",
    "# @see https://github.com/fchollet/keras/blob/master/keras/applications/vgg16.py#L111\n",
    "class Model_1():\n",
    "    def __init__(self,\n",
    "                 conv_blocks=5,\n",
    "                 input_size=(64, 64),\n",
    "                 classes=[]):\n",
    "        \n",
    "        self.conv_blocks = conv_blocks  # 1..5\n",
    "        self.input_size = input_size\n",
    "        self.classes = classes\n",
    "\n",
    "    def build(self):\n",
    "\n",
    "        # yapf: disable\n",
    "        i = Input(shape=self.input_size +(1,), name='input')\n",
    "\n",
    "        x = Conv2D(64, (3, 3), activation='relu', padding='same', name='block1_conv1')(i)\n",
    "        x = Conv2D(64, (3, 3), activation='relu', padding='same', name='block1_conv2')(x)\n",
    "        x = MaxPooling2D((2, 2), strides=(2, 2), name='block1_pool')(x)\n",
    "\n",
    "        if self.conv_blocks >= 2:\n",
    "            x = Conv2D(128, (3, 3), activation='relu', padding='same', name='block2_conv1')(x)\n",
    "            x = Conv2D(128, (3, 3), activation='relu', padding='same', name='block2_conv2')(x)\n",
    "            x = MaxPooling2D((2, 2), strides=(2, 2), name='block2_pool')(x)\n",
    "\n",
    "        if self.conv_blocks >= 3:\n",
    "            x = Conv2D(256, (3, 3), activation='relu', padding='same', name='block3_conv1')(x)\n",
    "            x = Conv2D(256, (3, 3), activation='relu', padding='same', name='block3_conv2')(x)\n",
    "            x = Conv2D(256, (3, 3), activation='relu', padding='same', name='block3_conv3')(x)\n",
    "            x = MaxPooling2D((2, 2), strides=(2, 2), name='block3_pool')(x)\n",
    "\n",
    "        if self.conv_blocks >= 4:\n",
    "            x = Conv2D(512, (3, 3), activation='relu', padding='same', name='block4_conv1')(x)\n",
    "            x = Conv2D(512, (3, 3), activation='relu', padding='same', name='block4_conv2')(x)\n",
    "            x = Conv2D(512, (3, 3), activation='relu', padding='same', name='block4_conv3')(x)\n",
    "            x = MaxPooling2D((2, 2), strides=(2, 2), name='block4_pool')(x)\n",
    "\n",
    "        if self.conv_blocks >= 5:\n",
    "            x = Conv2D(512, (3, 3), activation='relu', padding='same', name='block5_conv1')(x)\n",
    "            x = Conv2D(512, (3, 3), activation='relu', padding='same', name='block5_conv2')(x)\n",
    "            x = Conv2D(512, (3, 3), activation='relu', padding='same', name='block5_conv3')(x)\n",
    "            x = MaxPooling2D((2, 2), strides=(2, 2), name='block5_pool')(x)\n",
    "\n",
    "        x = Flatten(name='flatten')(x)\n",
    "        x = Dense(1024, activation='relu', name='fc1')(x)\n",
    "        x = Dropout(0.5)(x) # todo: try disabling\n",
    "        x = Dense(1024, activation='relu', name='fc2')(x)\n",
    "        x = Dropout(0.5)(x) # todo: try disabling\n",
    "        x = Dense(len(self.classes), activation='softmax', name='predictions')(x)\n",
    "\n",
    "        # yapf: enable\n",
    "\n",
    "        self.m = Model(inputs=[i], outputs=[x])\n",
    "        return self.m"
   ]
  },
  {
   "cell_type": "code",
   "execution_count": 20,
   "metadata": {},
   "outputs": [],
   "source": [
    "# %run 'lib.ipynb'\n",
    "# m = Model_1(conv_blocks=5, classes=LABELS)\n",
    "# mi = m.build()\n",
    "# mi.summary()"
   ]
  }
 ],
 "metadata": {
  "kernelspec": {
   "display_name": "Python 3",
   "language": "python",
   "name": "python3"
  },
  "language_info": {
   "codemirror_mode": {
    "name": "ipython",
    "version": 3
   },
   "file_extension": ".py",
   "mimetype": "text/x-python",
   "name": "python",
   "nbconvert_exporter": "python",
   "pygments_lexer": "ipython3",
   "version": "3.5.2"
  }
 },
 "nbformat": 4,
 "nbformat_minor": 2
}
