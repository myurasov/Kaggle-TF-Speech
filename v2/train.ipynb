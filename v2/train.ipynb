{
 "cells": [
  {
   "cell_type": "code",
   "execution_count": 1,
   "metadata": {},
   "outputs": [
    {
     "name": "stderr",
     "output_type": "stream",
     "text": [
      "Using TensorFlow backend.\n"
     ]
    }
   ],
   "source": [
    "import os\n",
    "import math\n",
    "import shutil\n",
    "import numpy as np\n",
    "from multiprocessing import Pool\n",
    "from keras.optimizers import RMSprop, SGD\n",
    "from keras.losses import categorical_crossentropy\n",
    "from keras.callbacks import TensorBoard, ModelCheckpoint, EarlyStopping, ReduceLROnPlateau"
   ]
  },
  {
   "cell_type": "code",
   "execution_count": 2,
   "metadata": {},
   "outputs": [],
   "source": [
    "GPU = '0'\n",
    "RND = 1\n",
    "RUN = 'F3'\n",
    "OUT_DIR = 'out_1_5m/'\n",
    "TRAIN_TMP_DIR = OUT_DIR + '/train'\n",
    "INPUT_DIR = '/d2/caches/tf-speech/train/audio'\n",
    "TENSORBOARD_DIR = '/tensorboard/tf-speech/%s' % RUN\n",
    "MODELS_DIR = '%s/models/%s' % (OUT_DIR, RUN)\n",
    "INPUT_SIZE = (64, 64, 1)  # n_mels x width x 1ch\n",
    "\n",
    "N_VAL_SAMPLES = 3000\n",
    "N_TRAIN_SAMPLES = 1500000  # how many training samples to generate"
   ]
  },
  {
   "cell_type": "code",
   "execution_count": 3,
   "metadata": {},
   "outputs": [],
   "source": [
    "# make only specific GPU to be utilized\n",
    "os.environ['CUDA_DEVICE_ORDER'] = 'PCI_BUS_ID'\n",
    "os.environ['CUDA_VISIBLE_DEVICES'] = GPU"
   ]
  },
  {
   "cell_type": "code",
   "execution_count": 4,
   "metadata": {},
   "outputs": [],
   "source": [
    "%run 'lib.ipynb'\n",
    "%run 'data-generator.ipynb'\n",
    "%run 'models.ipynb'"
   ]
  },
  {
   "cell_type": "code",
   "execution_count": 5,
   "metadata": {},
   "outputs": [],
   "source": [
    "# remove tensorboard data\n",
    "if os.path.isdir(TENSORBOARD_DIR): shutil.rmtree(TENSORBOARD_DIR)"
   ]
  },
  {
   "cell_type": "code",
   "execution_count": 6,
   "metadata": {},
   "outputs": [
    {
     "name": "stdout",
     "output_type": "stream",
     "text": [
      "val samples: 3000\n"
     ]
    }
   ],
   "source": [
    "# load val data\n",
    "\n",
    "val_X_path = OUT_DIR + '/val_X.npy'\n",
    "val_Y_path = OUT_DIR + '/val_Y.npy'\n",
    "\n",
    "val_X = np.load(val_X_path)\n",
    "val_Y = np.load(val_Y_path)\n",
    "\n",
    "assert len(val_X) == len(val_Y)\n",
    "print('val samples: %d' % len(val_X))"
   ]
  },
  {
   "cell_type": "code",
   "execution_count": 7,
   "metadata": {},
   "outputs": [
    {
     "name": "stdout",
     "output_type": "stream",
     "text": [
      "training samples: 1500000\n"
     ]
    }
   ],
   "source": [
    "# load training data\n",
    "\n",
    "train_X_file = '%s/train_X.mem' % OUT_DIR\n",
    "train_Y_file = '%s/train_Y.mem' % OUT_DIR\n",
    "\n",
    "train_X = np.memmap(\n",
    "    train_X_file, np.float32, 'r', shape=(N_TRAIN_SAMPLES, ) + INPUT_SIZE)\n",
    "train_Y = np.memmap(\n",
    "    train_Y_file, np.float32, 'r', shape=(N_TRAIN_SAMPLES, len(LABELS)))\n",
    "\n",
    "assert len(train_X) == len(train_Y)\n",
    "print('training samples: %d' % len(train_X))"
   ]
  },
  {
   "cell_type": "code",
   "execution_count": 8,
   "metadata": {},
   "outputs": [],
   "source": [
    "# create model\n",
    "model = Model_3(input_size=INPUT_SIZE, output_size=len(LABELS))\n",
    "model.build()\n",
    "optimizer = SGD(lr=1e-1)\n",
    "model.m.compile(\n",
    "    optimizer=optimizer, loss=categorical_crossentropy, metrics=['accuracy']\\\n",
    ")"
   ]
  },
  {
   "cell_type": "code",
   "execution_count": 9,
   "metadata": {},
   "outputs": [],
   "source": [
    "# create models dir\n",
    "if os.path.isdir(MODELS_DIR): shutil.rmtree(MODELS_DIR)\n",
    "os.makedirs(MODELS_DIR)"
   ]
  },
  {
   "cell_type": "code",
   "execution_count": 10,
   "metadata": {
    "scrolled": false
   },
   "outputs": [
    {
     "name": "stdout",
     "output_type": "stream",
     "text": [
      "# samples per epoch: 100000\n",
      "\n",
      "Epoch 1/100\n",
      "200/200 [==============================] - 49s - loss: 2.3089 - acc: 0.1913 - val_loss: 1.5055 - val_acc: 0.5790\n",
      "Epoch 2/100\n",
      "200/200 [==============================] - 48s - loss: 1.6660 - acc: 0.4459 - val_loss: 0.8204 - val_acc: 0.7507\n",
      "Epoch 3/100\n",
      "200/200 [==============================] - 48s - loss: 1.2142 - acc: 0.6031 - val_loss: 0.4935 - val_acc: 0.8347\n",
      "Epoch 4/100\n",
      "200/200 [==============================] - 48s - loss: 0.9800 - acc: 0.6836 - val_loss: 0.4293 - val_acc: 0.8650\n",
      "Epoch 5/100\n",
      "200/200 [==============================] - 48s - loss: 0.8671 - acc: 0.7232 - val_loss: 0.3587 - val_acc: 0.8860\n",
      "Epoch 6/100\n",
      "200/200 [==============================] - 48s - loss: 0.7731 - acc: 0.7541 - val_loss: 0.3183 - val_acc: 0.9053\n",
      "Epoch 7/100\n",
      "200/200 [==============================] - 48s - loss: 0.7017 - acc: 0.7768 - val_loss: 0.3036 - val_acc: 0.9113\n",
      "Epoch 8/100\n",
      "200/200 [==============================] - 48s - loss: 0.6479 - acc: 0.7937 - val_loss: 0.2826 - val_acc: 0.9190\n",
      "Epoch 9/100\n",
      "200/200 [==============================] - 48s - loss: 0.6087 - acc: 0.8089 - val_loss: 0.2852 - val_acc: 0.9177\n",
      "Epoch 10/100\n",
      "200/200 [==============================] - 48s - loss: 0.5695 - acc: 0.8207 - val_loss: 0.3031 - val_acc: 0.9157\n",
      "Epoch 11/100\n",
      "200/200 [==============================] - 48s - loss: 0.5354 - acc: 0.8303 - val_loss: 0.2726 - val_acc: 0.9280\n",
      "Epoch 12/100\n",
      "200/200 [==============================] - 48s - loss: 0.5002 - acc: 0.8430 - val_loss: 0.2726 - val_acc: 0.9293\n",
      "Epoch 13/100\n",
      "200/200 [==============================] - 48s - loss: 0.4734 - acc: 0.8517 - val_loss: 0.2788 - val_acc: 0.9210\n",
      "Epoch 14/100\n",
      "199/200 [============================>.] - ETA: 0s - loss: 0.4392 - acc: 0.8613\n",
      "Epoch 00013: reducing learning rate to 0.015000000223517418.\n",
      "200/200 [==============================] - 48s - loss: 0.4390 - acc: 0.8613 - val_loss: 0.2758 - val_acc: 0.9333\n",
      "Epoch 15/100\n",
      "200/200 [==============================] - 48s - loss: 0.3580 - acc: 0.8870 - val_loss: 0.2426 - val_acc: 0.9420\n",
      "Epoch 16/100\n",
      "200/200 [==============================] - 48s - loss: 0.3357 - acc: 0.8934 - val_loss: 0.2461 - val_acc: 0.9413\n",
      "Epoch 17/100\n",
      "200/200 [==============================] - 48s - loss: 0.3201 - acc: 0.8986 - val_loss: 0.2537 - val_acc: 0.9420\n",
      "Epoch 18/100\n",
      "199/200 [============================>.] - ETA: 0s - loss: 0.3062 - acc: 0.9027\n",
      "Epoch 00017: reducing learning rate to 0.002250000089406967.\n",
      "200/200 [==============================] - 48s - loss: 0.3062 - acc: 0.9027 - val_loss: 0.2509 - val_acc: 0.9423\n",
      "Epoch 19/100\n",
      "200/200 [==============================] - 48s - loss: 0.2920 - acc: 0.9071 - val_loss: 0.2577 - val_acc: 0.9427\n",
      "Epoch 20/100\n",
      "199/200 [============================>.] - ETA: 0s - loss: 0.2977 - acc: 0.9037\n",
      "Epoch 00019: reducing learning rate to 0.0003375000203959644.\n",
      "200/200 [==============================] - 48s - loss: 0.2976 - acc: 0.9037 - val_loss: 0.2584 - val_acc: 0.9413\n",
      "Epoch 21/100\n",
      "200/200 [==============================] - 48s - loss: 0.2894 - acc: 0.9081 - val_loss: 0.2586 - val_acc: 0.9407\n",
      "Epoch 22/100\n",
      "199/200 [============================>.] - ETA: 0s - loss: 0.2901 - acc: 0.9085\n",
      "Epoch 00021: reducing learning rate to 5.062500131316483e-05.\n",
      "200/200 [==============================] - 48s - loss: 0.2900 - acc: 0.9085 - val_loss: 0.2578 - val_acc: 0.9417\n",
      "Epoch 23/100\n",
      "200/200 [==============================] - 48s - loss: 0.2857 - acc: 0.9091 - val_loss: 0.2579 - val_acc: 0.9413\n",
      "Epoch 24/100\n",
      "199/200 [============================>.] - ETA: 0s - loss: 0.2913 - acc: 0.9068\n",
      "Epoch 00023: reducing learning rate to 7.593749978695996e-06.\n",
      "200/200 [==============================] - 48s - loss: 0.2915 - acc: 0.9067 - val_loss: 0.2579 - val_acc: 0.9413\n",
      "Epoch 25/100\n",
      "200/200 [==============================] - 48s - loss: 0.2903 - acc: 0.9073 - val_loss: 0.2579 - val_acc: 0.9413\n",
      "Epoch 26/100\n",
      "199/200 [============================>.] - ETA: 0s - loss: 0.2893 - acc: 0.9077\n",
      "Epoch 00025: reducing learning rate to 1.1390625104468198e-06.\n",
      "200/200 [==============================] - 47s - loss: 0.2895 - acc: 0.9076 - val_loss: 0.2579 - val_acc: 0.9413\n",
      "Epoch 27/100\n",
      "200/200 [==============================] - 48s - loss: 0.2851 - acc: 0.9079 - val_loss: 0.2579 - val_acc: 0.9413\n",
      "Epoch 28/100\n",
      "199/200 [============================>.] - ETA: 0s - loss: 0.2904 - acc: 0.9070\n",
      "Epoch 00027: reducing learning rate to 1.7085937997762812e-07.\n",
      "200/200 [==============================] - 48s - loss: 0.2903 - acc: 0.9070 - val_loss: 0.2579 - val_acc: 0.9413\n",
      "Epoch 29/100\n",
      "200/200 [==============================] - 47s - loss: 0.2871 - acc: 0.9085 - val_loss: 0.2579 - val_acc: 0.9413\n",
      "Epoch 30/100\n",
      "199/200 [============================>.] - ETA: 0s - loss: 0.2916 - acc: 0.9068\n",
      "Epoch 00029: reducing learning rate to 2.562890699664422e-08.\n",
      "200/200 [==============================] - 48s - loss: 0.2915 - acc: 0.9068 - val_loss: 0.2579 - val_acc: 0.9413\n",
      "Epoch 31/100\n",
      "200/200 [==============================] - 48s - loss: 0.2863 - acc: 0.9085 - val_loss: 0.2579 - val_acc: 0.9413\n",
      "Epoch 32/100\n",
      "199/200 [============================>.] - ETA: 0s - loss: 0.2921 - acc: 0.9067\n",
      "Epoch 00031: reducing learning rate to 3.8443360494966324e-09.\n",
      "200/200 [==============================] - 48s - loss: 0.2921 - acc: 0.9068 - val_loss: 0.2579 - val_acc: 0.9413\n",
      "Epoch 33/100\n",
      "200/200 [==============================] - 48s - loss: 0.2864 - acc: 0.9096 - val_loss: 0.2579 - val_acc: 0.9413\n",
      "Epoch 34/100\n",
      "199/200 [============================>.] - ETA: 0s - loss: 0.2912 - acc: 0.9070\n",
      "Epoch 00033: reducing learning rate to 1e-09.\n",
      "200/200 [==============================] - 48s - loss: 0.2912 - acc: 0.9070 - val_loss: 0.2579 - val_acc: 0.9413\n",
      "Epoch 35/100\n",
      "200/200 [==============================] - 47s - loss: 0.2880 - acc: 0.9079 - val_loss: 0.2579 - val_acc: 0.9413\n",
      "Epoch 36/100\n",
      "116/200 [================>.............] - ETA: 19s - loss: 0.2895 - acc: 0.9076"
     ]
    },
    {
     "ename": "KeyboardInterrupt",
     "evalue": "",
     "output_type": "error",
     "traceback": [
      "\u001b[0;31m---------------------------------------------------------------------------\u001b[0m",
      "\u001b[0;31mKeyboardInterrupt\u001b[0m                         Traceback (most recent call last)",
      "\u001b[0;32m<ipython-input-10-eccaccadf1b8>\u001b[0m in \u001b[0;36m<module>\u001b[0;34m()\u001b[0m\n\u001b[1;32m     52\u001b[0m             \u001b[0mpatience\u001b[0m\u001b[0;34m=\u001b[0m\u001b[0;36m50\u001b[0m\u001b[0;34m,\u001b[0m\u001b[0;34m\u001b[0m\u001b[0m\n\u001b[1;32m     53\u001b[0m             \u001b[0mverbose\u001b[0m\u001b[0;34m=\u001b[0m\u001b[0;36m1\u001b[0m\u001b[0;34m,\u001b[0m\u001b[0;34m\u001b[0m\u001b[0m\n\u001b[0;32m---> 54\u001b[0;31m             mode='auto')\n\u001b[0m\u001b[1;32m     55\u001b[0m     ])\n",
      "\u001b[0;32m/usr/local/lib/python3.5/dist-packages/keras/legacy/interfaces.py\u001b[0m in \u001b[0;36mwrapper\u001b[0;34m(*args, **kwargs)\u001b[0m\n\u001b[1;32m     85\u001b[0m                 warnings.warn('Update your `' + object_name +\n\u001b[1;32m     86\u001b[0m                               '` call to the Keras 2 API: ' + signature, stacklevel=2)\n\u001b[0;32m---> 87\u001b[0;31m             \u001b[0;32mreturn\u001b[0m \u001b[0mfunc\u001b[0m\u001b[0;34m(\u001b[0m\u001b[0;34m*\u001b[0m\u001b[0margs\u001b[0m\u001b[0;34m,\u001b[0m \u001b[0;34m**\u001b[0m\u001b[0mkwargs\u001b[0m\u001b[0;34m)\u001b[0m\u001b[0;34m\u001b[0m\u001b[0m\n\u001b[0m\u001b[1;32m     88\u001b[0m         \u001b[0mwrapper\u001b[0m\u001b[0;34m.\u001b[0m\u001b[0m_original_function\u001b[0m \u001b[0;34m=\u001b[0m \u001b[0mfunc\u001b[0m\u001b[0;34m\u001b[0m\u001b[0m\n\u001b[1;32m     89\u001b[0m         \u001b[0;32mreturn\u001b[0m \u001b[0mwrapper\u001b[0m\u001b[0;34m\u001b[0m\u001b[0m\n",
      "\u001b[0;32m/usr/local/lib/python3.5/dist-packages/keras/engine/training.py\u001b[0m in \u001b[0;36mfit_generator\u001b[0;34m(self, generator, steps_per_epoch, epochs, verbose, callbacks, validation_data, validation_steps, class_weight, max_queue_size, workers, use_multiprocessing, initial_epoch)\u001b[0m\n\u001b[1;32m   1838\u001b[0m                     outs = self.train_on_batch(x, y,\n\u001b[1;32m   1839\u001b[0m                                                \u001b[0msample_weight\u001b[0m\u001b[0;34m=\u001b[0m\u001b[0msample_weight\u001b[0m\u001b[0;34m,\u001b[0m\u001b[0;34m\u001b[0m\u001b[0m\n\u001b[0;32m-> 1840\u001b[0;31m                                                class_weight=class_weight)\n\u001b[0m\u001b[1;32m   1841\u001b[0m \u001b[0;34m\u001b[0m\u001b[0m\n\u001b[1;32m   1842\u001b[0m                     \u001b[0;32mif\u001b[0m \u001b[0;32mnot\u001b[0m \u001b[0misinstance\u001b[0m\u001b[0;34m(\u001b[0m\u001b[0mouts\u001b[0m\u001b[0;34m,\u001b[0m \u001b[0mlist\u001b[0m\u001b[0;34m)\u001b[0m\u001b[0;34m:\u001b[0m\u001b[0;34m\u001b[0m\u001b[0m\n",
      "\u001b[0;32m/usr/local/lib/python3.5/dist-packages/keras/engine/training.py\u001b[0m in \u001b[0;36mtrain_on_batch\u001b[0;34m(self, x, y, sample_weight, class_weight)\u001b[0m\n\u001b[1;32m   1563\u001b[0m             \u001b[0mins\u001b[0m \u001b[0;34m=\u001b[0m \u001b[0mx\u001b[0m \u001b[0;34m+\u001b[0m \u001b[0my\u001b[0m \u001b[0;34m+\u001b[0m \u001b[0msample_weights\u001b[0m\u001b[0;34m\u001b[0m\u001b[0m\n\u001b[1;32m   1564\u001b[0m         \u001b[0mself\u001b[0m\u001b[0;34m.\u001b[0m\u001b[0m_make_train_function\u001b[0m\u001b[0;34m(\u001b[0m\u001b[0;34m)\u001b[0m\u001b[0;34m\u001b[0m\u001b[0m\n\u001b[0;32m-> 1565\u001b[0;31m         \u001b[0moutputs\u001b[0m \u001b[0;34m=\u001b[0m \u001b[0mself\u001b[0m\u001b[0;34m.\u001b[0m\u001b[0mtrain_function\u001b[0m\u001b[0;34m(\u001b[0m\u001b[0mins\u001b[0m\u001b[0;34m)\u001b[0m\u001b[0;34m\u001b[0m\u001b[0m\n\u001b[0m\u001b[1;32m   1566\u001b[0m         \u001b[0;32mif\u001b[0m \u001b[0mlen\u001b[0m\u001b[0;34m(\u001b[0m\u001b[0moutputs\u001b[0m\u001b[0;34m)\u001b[0m \u001b[0;34m==\u001b[0m \u001b[0;36m1\u001b[0m\u001b[0;34m:\u001b[0m\u001b[0;34m\u001b[0m\u001b[0m\n\u001b[1;32m   1567\u001b[0m             \u001b[0;32mreturn\u001b[0m \u001b[0moutputs\u001b[0m\u001b[0;34m[\u001b[0m\u001b[0;36m0\u001b[0m\u001b[0;34m]\u001b[0m\u001b[0;34m\u001b[0m\u001b[0m\n",
      "\u001b[0;32m/usr/local/lib/python3.5/dist-packages/keras/backend/tensorflow_backend.py\u001b[0m in \u001b[0;36m__call__\u001b[0;34m(self, inputs)\u001b[0m\n\u001b[1;32m   2266\u001b[0m         updated = session.run(self.outputs + [self.updates_op],\n\u001b[1;32m   2267\u001b[0m                               \u001b[0mfeed_dict\u001b[0m\u001b[0;34m=\u001b[0m\u001b[0mfeed_dict\u001b[0m\u001b[0;34m,\u001b[0m\u001b[0;34m\u001b[0m\u001b[0m\n\u001b[0;32m-> 2268\u001b[0;31m                               **self.session_kwargs)\n\u001b[0m\u001b[1;32m   2269\u001b[0m         \u001b[0;32mreturn\u001b[0m \u001b[0mupdated\u001b[0m\u001b[0;34m[\u001b[0m\u001b[0;34m:\u001b[0m\u001b[0mlen\u001b[0m\u001b[0;34m(\u001b[0m\u001b[0mself\u001b[0m\u001b[0;34m.\u001b[0m\u001b[0moutputs\u001b[0m\u001b[0;34m)\u001b[0m\u001b[0;34m]\u001b[0m\u001b[0;34m\u001b[0m\u001b[0m\n\u001b[1;32m   2270\u001b[0m \u001b[0;34m\u001b[0m\u001b[0m\n",
      "\u001b[0;32m/usr/local/lib/python3.5/dist-packages/tensorflow/python/client/session.py\u001b[0m in \u001b[0;36mrun\u001b[0;34m(self, fetches, feed_dict, options, run_metadata)\u001b[0m\n\u001b[1;32m    787\u001b[0m     \u001b[0;32mtry\u001b[0m\u001b[0;34m:\u001b[0m\u001b[0;34m\u001b[0m\u001b[0m\n\u001b[1;32m    788\u001b[0m       result = self._run(None, fetches, feed_dict, options_ptr,\n\u001b[0;32m--> 789\u001b[0;31m                          run_metadata_ptr)\n\u001b[0m\u001b[1;32m    790\u001b[0m       \u001b[0;32mif\u001b[0m \u001b[0mrun_metadata\u001b[0m\u001b[0;34m:\u001b[0m\u001b[0;34m\u001b[0m\u001b[0m\n\u001b[1;32m    791\u001b[0m         \u001b[0mproto_data\u001b[0m \u001b[0;34m=\u001b[0m \u001b[0mtf_session\u001b[0m\u001b[0;34m.\u001b[0m\u001b[0mTF_GetBuffer\u001b[0m\u001b[0;34m(\u001b[0m\u001b[0mrun_metadata_ptr\u001b[0m\u001b[0;34m)\u001b[0m\u001b[0;34m\u001b[0m\u001b[0m\n",
      "\u001b[0;32m/usr/local/lib/python3.5/dist-packages/tensorflow/python/client/session.py\u001b[0m in \u001b[0;36m_run\u001b[0;34m(self, handle, fetches, feed_dict, options, run_metadata)\u001b[0m\n\u001b[1;32m    995\u001b[0m     \u001b[0;32mif\u001b[0m \u001b[0mfinal_fetches\u001b[0m \u001b[0;32mor\u001b[0m \u001b[0mfinal_targets\u001b[0m\u001b[0;34m:\u001b[0m\u001b[0;34m\u001b[0m\u001b[0m\n\u001b[1;32m    996\u001b[0m       results = self._do_run(handle, final_targets, final_fetches,\n\u001b[0;32m--> 997\u001b[0;31m                              feed_dict_string, options, run_metadata)\n\u001b[0m\u001b[1;32m    998\u001b[0m     \u001b[0;32melse\u001b[0m\u001b[0;34m:\u001b[0m\u001b[0;34m\u001b[0m\u001b[0m\n\u001b[1;32m    999\u001b[0m       \u001b[0mresults\u001b[0m \u001b[0;34m=\u001b[0m \u001b[0;34m[\u001b[0m\u001b[0;34m]\u001b[0m\u001b[0;34m\u001b[0m\u001b[0m\n",
      "\u001b[0;32m/usr/local/lib/python3.5/dist-packages/tensorflow/python/client/session.py\u001b[0m in \u001b[0;36m_do_run\u001b[0;34m(self, handle, target_list, fetch_list, feed_dict, options, run_metadata)\u001b[0m\n\u001b[1;32m   1130\u001b[0m     \u001b[0;32mif\u001b[0m \u001b[0mhandle\u001b[0m \u001b[0;32mis\u001b[0m \u001b[0;32mNone\u001b[0m\u001b[0;34m:\u001b[0m\u001b[0;34m\u001b[0m\u001b[0m\n\u001b[1;32m   1131\u001b[0m       return self._do_call(_run_fn, self._session, feed_dict, fetch_list,\n\u001b[0;32m-> 1132\u001b[0;31m                            target_list, options, run_metadata)\n\u001b[0m\u001b[1;32m   1133\u001b[0m     \u001b[0;32melse\u001b[0m\u001b[0;34m:\u001b[0m\u001b[0;34m\u001b[0m\u001b[0m\n\u001b[1;32m   1134\u001b[0m       return self._do_call(_prun_fn, self._session, handle, feed_dict,\n",
      "\u001b[0;32m/usr/local/lib/python3.5/dist-packages/tensorflow/python/client/session.py\u001b[0m in \u001b[0;36m_do_call\u001b[0;34m(self, fn, *args)\u001b[0m\n\u001b[1;32m   1137\u001b[0m   \u001b[0;32mdef\u001b[0m \u001b[0m_do_call\u001b[0m\u001b[0;34m(\u001b[0m\u001b[0mself\u001b[0m\u001b[0;34m,\u001b[0m \u001b[0mfn\u001b[0m\u001b[0;34m,\u001b[0m \u001b[0;34m*\u001b[0m\u001b[0margs\u001b[0m\u001b[0;34m)\u001b[0m\u001b[0;34m:\u001b[0m\u001b[0;34m\u001b[0m\u001b[0m\n\u001b[1;32m   1138\u001b[0m     \u001b[0;32mtry\u001b[0m\u001b[0;34m:\u001b[0m\u001b[0;34m\u001b[0m\u001b[0m\n\u001b[0;32m-> 1139\u001b[0;31m       \u001b[0;32mreturn\u001b[0m \u001b[0mfn\u001b[0m\u001b[0;34m(\u001b[0m\u001b[0;34m*\u001b[0m\u001b[0margs\u001b[0m\u001b[0;34m)\u001b[0m\u001b[0;34m\u001b[0m\u001b[0m\n\u001b[0m\u001b[1;32m   1140\u001b[0m     \u001b[0;32mexcept\u001b[0m \u001b[0merrors\u001b[0m\u001b[0;34m.\u001b[0m\u001b[0mOpError\u001b[0m \u001b[0;32mas\u001b[0m \u001b[0me\u001b[0m\u001b[0;34m:\u001b[0m\u001b[0;34m\u001b[0m\u001b[0m\n\u001b[1;32m   1141\u001b[0m       \u001b[0mmessage\u001b[0m \u001b[0;34m=\u001b[0m \u001b[0mcompat\u001b[0m\u001b[0;34m.\u001b[0m\u001b[0mas_text\u001b[0m\u001b[0;34m(\u001b[0m\u001b[0me\u001b[0m\u001b[0;34m.\u001b[0m\u001b[0mmessage\u001b[0m\u001b[0;34m)\u001b[0m\u001b[0;34m\u001b[0m\u001b[0m\n",
      "\u001b[0;32m/usr/local/lib/python3.5/dist-packages/tensorflow/python/client/session.py\u001b[0m in \u001b[0;36m_run_fn\u001b[0;34m(session, feed_dict, fetch_list, target_list, options, run_metadata)\u001b[0m\n\u001b[1;32m   1119\u001b[0m         return tf_session.TF_Run(session, options,\n\u001b[1;32m   1120\u001b[0m                                  \u001b[0mfeed_dict\u001b[0m\u001b[0;34m,\u001b[0m \u001b[0mfetch_list\u001b[0m\u001b[0;34m,\u001b[0m \u001b[0mtarget_list\u001b[0m\u001b[0;34m,\u001b[0m\u001b[0;34m\u001b[0m\u001b[0m\n\u001b[0;32m-> 1121\u001b[0;31m                                  status, run_metadata)\n\u001b[0m\u001b[1;32m   1122\u001b[0m \u001b[0;34m\u001b[0m\u001b[0m\n\u001b[1;32m   1123\u001b[0m     \u001b[0;32mdef\u001b[0m \u001b[0m_prun_fn\u001b[0m\u001b[0;34m(\u001b[0m\u001b[0msession\u001b[0m\u001b[0;34m,\u001b[0m \u001b[0mhandle\u001b[0m\u001b[0;34m,\u001b[0m \u001b[0mfeed_dict\u001b[0m\u001b[0;34m,\u001b[0m \u001b[0mfetch_list\u001b[0m\u001b[0;34m)\u001b[0m\u001b[0;34m:\u001b[0m\u001b[0;34m\u001b[0m\u001b[0m\n",
      "\u001b[0;31mKeyboardInterrupt\u001b[0m: "
     ]
    }
   ],
   "source": [
    "# train model\n",
    "\n",
    "N_PER_BATCH = 500\n",
    "STEPS_PER_EPOCH = len(\n",
    "    train_X) // N_PER_BATCH // 15  # last number splits train set into # epochs\n",
    "N_EPOCHS = 100\n",
    "\n",
    "print('# samples per epoch: %d\\n' % (STEPS_PER_EPOCH * N_PER_BATCH))\n",
    "\n",
    "\n",
    "def train_generator(n_per_batch, random=False):\n",
    "    if random:\n",
    "        while True:\n",
    "            ixs = np.random.randint(0, len(train_X), size=N_PER_BATCH)\n",
    "            batch_X = train_X[ixs]\n",
    "            batch_Y = train_Y[ixs]\n",
    "            yield (batch_X, batch_Y)\n",
    "    else:\n",
    "        start_i = 0\n",
    "        while True:\n",
    "            if start_i >= len(train_X): start_i = 0\n",
    "            batch_X = train_X[start_i:start_i + n_per_batch]\n",
    "            batch_Y = train_Y[start_i:start_i + n_per_batch]\n",
    "            yield (batch_X, batch_Y)\n",
    "            start_i += n_per_batch\n",
    "\n",
    "\n",
    "model.m.fit_generator(\n",
    "    train_generator(N_PER_BATCH, random=True),\n",
    "    STEPS_PER_EPOCH,\n",
    "    epochs=N_EPOCHS,\n",
    "    validation_data=(val_X, val_Y),\n",
    "    callbacks=[\n",
    "        TensorBoard(log_dir=TENSORBOARD_DIR),\n",
    "        ModelCheckpoint(\n",
    "            MODELS_DIR +\n",
    "            '/e{epoch:03d}-l={loss:.5f}-vl={val_loss:.5f}-a={acc:.5f}-va={val_acc:.5f}.h5',\n",
    "            monitor='val_acc',\n",
    "            verbose=0,\n",
    "            save_best_only=False,\n",
    "            save_weights_only=False,\n",
    "            mode='auto'),\n",
    "        ReduceLROnPlateau(\n",
    "            monitor='val_loss',\n",
    "            factor=0.15,\n",
    "            patience=2,\n",
    "            min_lr=1e-9,\n",
    "            verbose=1),\n",
    "        EarlyStopping(\n",
    "            monitor='val_loss',\n",
    "            min_delta=0.000001,\n",
    "            patience=50,\n",
    "            verbose=1,\n",
    "            mode='auto')\n",
    "    ])"
   ]
  },
  {
   "cell_type": "code",
   "execution_count": null,
   "metadata": {},
   "outputs": [],
   "source": [
    "# !cp out_1m/models/E/e007-l\\=0.29786-vl\\=0.23771-a\\=0.91079-va\\=0.93333.h5 models/E_e007-l\\=0.29786-vl\\=0.23771-a\\=0.91079-va\\=0.93333.h5"
   ]
  }
 ],
 "metadata": {
  "kernelspec": {
   "display_name": "Python 3",
   "language": "python",
   "name": "python3"
  },
  "language_info": {
   "codemirror_mode": {
    "name": "ipython",
    "version": 3
   },
   "file_extension": ".py",
   "mimetype": "text/x-python",
   "name": "python",
   "nbconvert_exporter": "python",
   "pygments_lexer": "ipython3",
   "version": "3.5.2"
  }
 },
 "nbformat": 4,
 "nbformat_minor": 2
}
