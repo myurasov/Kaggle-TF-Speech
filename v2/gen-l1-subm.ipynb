{
 "cells": [
  {
   "cell_type": "code",
   "execution_count": 101,
   "metadata": {},
   "outputs": [],
   "source": [
    "import numpy as np\n",
    "import pandas as pd"
   ]
  },
  {
   "cell_type": "code",
   "execution_count": 102,
   "metadata": {},
   "outputs": [],
   "source": [
    "Y_FILE = 'out/test/test_predictions_%d.npy'\n",
    "FNAMES_FILE = 'out/test/test_files.npy'\n",
    "OUT_FILE = 'out/submission-v2-L1-B-voting.csv'\n",
    "FOLDS = 10"
   ]
  },
  {
   "cell_type": "code",
   "execution_count": 103,
   "metadata": {},
   "outputs": [],
   "source": [
    "%run '../data-generator.ipynb'"
   ]
  },
  {
   "cell_type": "code",
   "execution_count": 104,
   "metadata": {},
   "outputs": [],
   "source": [
    "# read fnames\n",
    "fnames = np.load(FNAMES_FILE)"
   ]
  },
  {
   "cell_type": "code",
   "execution_count": 105,
   "metadata": {},
   "outputs": [],
   "source": [
    "# read predictions\n",
    "preds_shape = np.load(Y_FILE % 0).shape\n",
    "preds = np.zeros((FOLDS, ) + preds_shape)\n",
    "\n",
    "for fold in range(FOLDS):\n",
    "    preds[fold] = np.load(Y_FILE % fold)"
   ]
  },
  {
   "cell_type": "code",
   "execution_count": 106,
   "metadata": {},
   "outputs": [],
   "source": [
    "# voting/averaging\n",
    "\n",
    "VOTING = True\n",
    "labels = [''] * len(fnames)\n",
    "\n",
    "if VOTING:\n",
    "\n",
    "    for i in range(len(fnames)):\n",
    "        ll = []\n",
    "        for fold in range(FOLDS):\n",
    "            ll.append(np.argmax(preds[fold][i]))\n",
    "        labels[i] = LABELS[np.argmax(np.bincount(ll))]\n",
    "\n",
    "else:\n",
    "\n",
    "    preds = np.mean(preds, axis=0)\n",
    "    for i in range(len(fnames)):\n",
    "        labels[i] = LABELS[np.argmax(preds[i])]"
   ]
  },
  {
   "cell_type": "code",
   "execution_count": null,
   "metadata": {},
   "outputs": [],
   "source": []
  },
  {
   "cell_type": "code",
   "execution_count": 107,
   "metadata": {},
   "outputs": [],
   "source": [
    "df = pd.DataFrame.from_dict({'fname': fnames, 'label': labels})\n",
    "df = df.set_index('fname')"
   ]
  },
  {
   "cell_type": "code",
   "execution_count": 108,
   "metadata": {},
   "outputs": [],
   "source": [
    "df.to_csv(OUT_FILE, index='fname')"
   ]
  }
 ],
 "metadata": {
  "kernelspec": {
   "display_name": "Python 3",
   "language": "python",
   "name": "python3"
  },
  "language_info": {
   "codemirror_mode": {
    "name": "ipython",
    "version": 3
   },
   "file_extension": ".py",
   "mimetype": "text/x-python",
   "name": "python",
   "nbconvert_exporter": "python",
   "pygments_lexer": "ipython3",
   "version": "3.5.2"
  }
 },
 "nbformat": 4,
 "nbformat_minor": 2
}
