{
 "cells": [
  {
   "cell_type": "code",
   "execution_count": 67,
   "metadata": {},
   "outputs": [],
   "source": [
    "import numpy as np\n",
    "import pandas as pd\n",
    "from glob import glob"
   ]
  },
  {
   "cell_type": "code",
   "execution_count": 68,
   "metadata": {},
   "outputs": [],
   "source": [
    "Y_FILES = glob('out/test/test_predictions_*.npy') + glob(\n",
    "    'out_64x64_1m/test/test_predictions_*.npy') + glob(\n",
    "        'out_96x96_1m/test/test_predictions_*.npy')"
   ]
  },
  {
   "cell_type": "code",
   "execution_count": 69,
   "metadata": {},
   "outputs": [],
   "source": [
    "Y_FILES = glob('out/test/test_predictions_*.npy')"
   ]
  },
  {
   "cell_type": "code",
   "execution_count": 70,
   "metadata": {},
   "outputs": [],
   "source": [
    "FNAMES_FILE = 'out/test/test_files.npy'\n",
    "OUT_FILE = 'out/submission-v2-L1-D-mean.csv'"
   ]
  },
  {
   "cell_type": "code",
   "execution_count": 71,
   "metadata": {},
   "outputs": [],
   "source": [
    "%run '../data-generator.ipynb'"
   ]
  },
  {
   "cell_type": "code",
   "execution_count": 72,
   "metadata": {},
   "outputs": [],
   "source": [
    "# read fnames\n",
    "fnames = np.load(FNAMES_FILE)"
   ]
  },
  {
   "cell_type": "code",
   "execution_count": 73,
   "metadata": {},
   "outputs": [],
   "source": [
    "# read predictions\n",
    "preds_shape = np.load(Y_FILES[0]).shape\n",
    "preds = np.zeros((len(Y_FILES), ) + preds_shape)\n",
    "\n",
    "for i, y_file in enumerate(Y_FILES):\n",
    "    preds[i] = np.load(y_file)"
   ]
  },
  {
   "cell_type": "code",
   "execution_count": 74,
   "metadata": {},
   "outputs": [],
   "source": [
    "# voting/averaging\n",
    "\n",
    "VOTING = False\n",
    "labels = [''] * len(fnames)\n",
    "\n",
    "if VOTING:\n",
    "\n",
    "    for i in range(len(fnames)):\n",
    "        ll = []\n",
    "        for j in range(len(preds)):\n",
    "            ll.append(np.argmax(preds[j][i]))\n",
    "        labels[i] = LABELS[np.argmax(np.bincount(ll))]\n",
    "\n",
    "else:\n",
    "\n",
    "    preds = np.mean(preds, axis=0)\n",
    "    for i in range(len(fnames)):\n",
    "        labels[i] = LABELS[np.argmax(preds[i])]"
   ]
  },
  {
   "cell_type": "code",
   "execution_count": null,
   "metadata": {},
   "outputs": [],
   "source": []
  },
  {
   "cell_type": "code",
   "execution_count": 75,
   "metadata": {},
   "outputs": [],
   "source": [
    "df = pd.DataFrame.from_dict({'fname': fnames, 'label': labels})\n",
    "df = df.set_index('fname')"
   ]
  },
  {
   "cell_type": "code",
   "execution_count": 76,
   "metadata": {},
   "outputs": [],
   "source": [
    "df.to_csv(OUT_FILE, index='fname')"
   ]
  },
  {
   "cell_type": "code",
   "execution_count": null,
   "metadata": {},
   "outputs": [],
   "source": []
  }
 ],
 "metadata": {
  "kernelspec": {
   "display_name": "Python 3",
   "language": "python",
   "name": "python3"
  },
  "language_info": {
   "codemirror_mode": {
    "name": "ipython",
    "version": 3
   },
   "file_extension": ".py",
   "mimetype": "text/x-python",
   "name": "python",
   "nbconvert_exporter": "python",
   "pygments_lexer": "ipython3",
   "version": "3.5.2"
  }
 },
 "nbformat": 4,
 "nbformat_minor": 2
}
