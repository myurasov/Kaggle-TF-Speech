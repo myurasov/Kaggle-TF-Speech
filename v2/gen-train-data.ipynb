{
 "cells": [
  {
   "cell_type": "code",
   "execution_count": 4,
   "metadata": {},
   "outputs": [],
   "source": [
    "import os\n",
    "import random as _random\n",
    "import numpy"
   ]
  },
  {
   "cell_type": "code",
   "execution_count": 26,
   "metadata": {},
   "outputs": [],
   "source": [
    "RND = 1\n",
    "N_HOLDOUT = 2500\n",
    "N_VAL = 2500\n",
    "N_TRAIN = 500000\n",
    "OUT_DIR = 'out_500k'"
   ]
  },
  {
   "cell_type": "code",
   "execution_count": 6,
   "metadata": {},
   "outputs": [],
   "source": [
    "_random.seed(RND)\n",
    "numpy.random.seed(RND)\n",
    "if not os.path.isdir(OUT_DIR): os.makedirs(OUT_DIR)"
   ]
  },
  {
   "cell_type": "code",
   "execution_count": 7,
   "metadata": {},
   "outputs": [],
   "source": [
    "%run '../data-generator.ipynb'"
   ]
  },
  {
   "cell_type": "code",
   "execution_count": null,
   "metadata": {},
   "outputs": [],
   "source": [
    "dg = DataGenerator('/d2/caches/tf-speech/train/audio')"
   ]
  },
  {
   "cell_type": "code",
   "execution_count": 25,
   "metadata": {},
   "outputs": [
    {
     "name": "stdout",
     "output_type": "stream",
     "text": [
      "{'down': 2359, 'yes': 2377, 'left': 2353, 'right': 2367, 'go': 2372, 'stop': 2380, 'unknown': 41039, 'up': 2375, 'on': 2367, 'off': 2357, 'no': 2375}\n",
      "total samples for known words: 23682\n",
      "avg per known label: 2368.2\n"
     ]
    }
   ],
   "source": [
    "# get some stats on input data\n",
    "counts = {k: len(v) for k, v in dg.input_files.items()}\n",
    "print(counts)\n",
    "del counts['unknown']\n",
    "print('total samples for known words:', sum(counts.values()))\n",
    "print('avg per known label:', sum(counts.values()) / len(counts))"
   ]
  },
  {
   "cell_type": "code",
   "execution_count": null,
   "metadata": {},
   "outputs": [],
   "source": []
  },
  {
   "cell_type": "code",
   "execution_count": 21,
   "metadata": {},
   "outputs": [
    {
     "ename": "SyntaxError",
     "evalue": "invalid syntax (<ipython-input-21-b502e7355696>, line 1)",
     "output_type": "error",
     "traceback": [
      "\u001b[0;36m  File \u001b[0;32m\"<ipython-input-21-b502e7355696>\"\u001b[0;36m, line \u001b[0;32m1\u001b[0m\n\u001b[0;31m    N_HOLDOUT =\u001b[0m\n\u001b[0m                ^\u001b[0m\n\u001b[0;31mSyntaxError\u001b[0m\u001b[0;31m:\u001b[0m invalid syntax\n"
     ]
    }
   ],
   "source": [
    "def _gen():\n",
    "\n",
    "    # generate, save\n",
    "    dg.val_files = {}\n",
    "    val_X, val_Y = dg.generate_val_set(n=N_VAL_SAMPLES)\n",
    "    np.save('%s/val_files.npy' % OUT_DIR, dg.val_files)\n",
    "    np.save('%s/val_X.npy' % OUT_DIR, val_X)\n",
    "    np.save('%s/val_Y.npy' % OUT_DIR, val_Y)\n",
    "\n",
    "    dg.generate_train_set(\n",
    "        n_total=N_TRAIN_SAMPLES,\n",
    "        n_per_job=1000,\n",
    "        n_pools=16,\n",
    "        X_file='%s/train_X.mem' % OUT_DIR,\n",
    "        Y_file='%s/train_Y.mem' % OUT_DIR,\n",
    "        tmp_dir='%s/train_tmp' % OUT_DIR)"
   ]
  },
  {
   "cell_type": "code",
   "execution_count": 5,
   "metadata": {},
   "outputs": [
    {
     "name": "stdout",
     "output_type": "stream",
     "text": [
      "CPU times: user 3min 29s, sys: 9min 18s, total: 12min 47s\n",
      "Wall time: 11h 29min 48s\n"
     ]
    }
   ],
   "source": [
    "%time _gen()"
   ]
  },
  {
   "cell_type": "code",
   "execution_count": null,
   "metadata": {},
   "outputs": [],
   "source": []
  }
 ],
 "metadata": {
  "kernelspec": {
   "display_name": "Python 3",
   "language": "python",
   "name": "python3"
  },
  "language_info": {
   "codemirror_mode": {
    "name": "ipython",
    "version": 3
   },
   "file_extension": ".py",
   "mimetype": "text/x-python",
   "name": "python",
   "nbconvert_exporter": "python",
   "pygments_lexer": "ipython3",
   "version": "3.5.2"
  }
 },
 "nbformat": 4,
 "nbformat_minor": 2
}
