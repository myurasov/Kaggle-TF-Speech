{
 "cells": [
  {
   "cell_type": "code",
   "execution_count": 1,
   "metadata": {},
   "outputs": [],
   "source": [
    "import os\n",
    "import random as _random\n",
    "import numpy"
   ]
  },
  {
   "cell_type": "code",
   "execution_count": 2,
   "metadata": {},
   "outputs": [],
   "source": [
    "RND = 1\n",
    "N_VAL = 5000\n",
    "N_TRAIN = 500000\n",
    "OUT_DIR = 'out_500k'"
   ]
  },
  {
   "cell_type": "code",
   "execution_count": 3,
   "metadata": {},
   "outputs": [],
   "source": [
    "_random.seed(RND)\n",
    "numpy.random.seed(RND)"
   ]
  },
  {
   "cell_type": "code",
   "execution_count": 4,
   "metadata": {},
   "outputs": [],
   "source": [
    "%run '../data-generator.ipynb'"
   ]
  },
  {
   "cell_type": "code",
   "execution_count": 5,
   "metadata": {},
   "outputs": [],
   "source": [
    "dg = DataGenerator('/d2/caches/tf-speech/train/audio')\n",
    "\n",
    "# adjust mixing options\n",
    "for k, v  in dg.mix_with.items():\n",
    "    if '_background_noise_' in k:\n",
    "        v['probability'] = 0.1"
   ]
  },
  {
   "cell_type": "code",
   "execution_count": 6,
   "metadata": {},
   "outputs": [
    {
     "name": "stdout",
     "output_type": "stream",
     "text": [
      "{'yes': 2377, 'right': 2367, 'unknown': 41039, 'left': 2353, 'no': 2375, 'up': 2375, 'off': 2357, 'go': 2372, 'stop': 2380, 'on': 2367, 'down': 2359}\n",
      "total samples for known words: 23682\n",
      "avg per known label: 2368.2\n"
     ]
    }
   ],
   "source": [
    "# get some stats on input data\n",
    "counts = {k: len(v) for k, v in dg.input_files.items()}\n",
    "print(counts)\n",
    "del counts['unknown']\n",
    "print('total samples for known words:', sum(counts.values()))\n",
    "print('avg per known label:', sum(counts.values()) / len(counts))"
   ]
  },
  {
   "cell_type": "code",
   "execution_count": 7,
   "metadata": {},
   "outputs": [],
   "source": [
    "if not os.path.isdir(OUT_DIR): os.makedirs(OUT_DIR)"
   ]
  },
  {
   "cell_type": "code",
   "execution_count": 8,
   "metadata": {},
   "outputs": [],
   "source": [
    "def _gen():\n",
    "    # generate validation set\n",
    "    dg.val_files = {}\n",
    "    val_X, val_Y = dg.generate_val_set(n=N_VAL)\n",
    "    np.save('%s/val_files.npy' % OUT_DIR, dg.val_files)\n",
    "    np.save('%s/val_X.npy' % OUT_DIR, val_X)\n",
    "    np.save('%s/val_Y.npy' % OUT_DIR, val_Y)\n",
    "\n",
    "    dg.generate_train_set(\n",
    "        n_total=N_TRAIN,\n",
    "        n_per_job=500,\n",
    "        n_pools=16,\n",
    "        X_file='%s/train_X.mem' % OUT_DIR,\n",
    "        Y_file='%s/train_Y.mem' % OUT_DIR,\n",
    "        tmp_dir='%s/train_tmp' % OUT_DIR)"
   ]
  },
  {
   "cell_type": "code",
   "execution_count": 9,
   "metadata": {},
   "outputs": [
    {
     "name": "stdout",
     "output_type": "stream",
     "text": [
      "CPU times: user 5min 16s, sys: 15min 32s, total: 20min 48s\n",
      "Wall time: 3h 31min 35s\n"
     ]
    }
   ],
   "source": [
    "%time _gen()"
   ]
  }
 ],
 "metadata": {
  "kernelspec": {
   "display_name": "Python 3",
   "language": "python",
   "name": "python3"
  },
  "language_info": {
   "codemirror_mode": {
    "name": "ipython",
    "version": 3
   },
   "file_extension": ".py",
   "mimetype": "text/x-python",
   "name": "python",
   "nbconvert_exporter": "python",
   "pygments_lexer": "ipython3",
   "version": "3.5.2"
  }
 },
 "nbformat": 4,
 "nbformat_minor": 2
}
